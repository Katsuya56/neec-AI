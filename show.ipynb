{
 "cells": [
  {
   "cell_type": "markdown",
   "metadata": {},
   "source": [
    "# 事前準備"
   ]
  },
  {
   "cell_type": "code",
   "execution_count": 16,
   "metadata": {},
   "outputs": [
    {
     "name": "stdout",
     "output_type": "stream",
     "text": [
      "Requirement already satisfied: japanize-matplotlib in c:\\users\\inkat\\appdata\\local\\programs\\python\\python311\\lib\\site-packages (1.1.3)\n",
      "Requirement already satisfied: matplotlib in c:\\users\\inkat\\appdata\\local\\programs\\python\\python311\\lib\\site-packages (from japanize-matplotlib) (3.7.1)\n",
      "Requirement already satisfied: contourpy>=1.0.1 in c:\\users\\inkat\\appdata\\local\\programs\\python\\python311\\lib\\site-packages (from matplotlib->japanize-matplotlib) (1.0.7)\n",
      "Requirement already satisfied: cycler>=0.10 in c:\\users\\inkat\\appdata\\local\\programs\\python\\python311\\lib\\site-packages (from matplotlib->japanize-matplotlib) (0.11.0)\n",
      "Requirement already satisfied: fonttools>=4.22.0 in c:\\users\\inkat\\appdata\\local\\programs\\python\\python311\\lib\\site-packages (from matplotlib->japanize-matplotlib) (4.39.4)\n",
      "Requirement already satisfied: kiwisolver>=1.0.1 in c:\\users\\inkat\\appdata\\local\\programs\\python\\python311\\lib\\site-packages (from matplotlib->japanize-matplotlib) (1.4.4)\n",
      "Requirement already satisfied: numpy>=1.20 in c:\\users\\inkat\\appdata\\local\\programs\\python\\python311\\lib\\site-packages (from matplotlib->japanize-matplotlib) (1.24.2)\n",
      "Requirement already satisfied: packaging>=20.0 in c:\\users\\inkat\\appdata\\local\\programs\\python\\python311\\lib\\site-packages (from matplotlib->japanize-matplotlib) (23.0)\n",
      "Requirement already satisfied: pillow>=6.2.0 in c:\\users\\inkat\\appdata\\local\\programs\\python\\python311\\lib\\site-packages (from matplotlib->japanize-matplotlib) (9.4.0)\n",
      "Requirement already satisfied: pyparsing>=2.3.1 in c:\\users\\inkat\\appdata\\local\\programs\\python\\python311\\lib\\site-packages (from matplotlib->japanize-matplotlib) (3.0.9)\n",
      "Requirement already satisfied: python-dateutil>=2.7 in c:\\users\\inkat\\appdata\\local\\programs\\python\\python311\\lib\\site-packages (from matplotlib->japanize-matplotlib) (2.8.2)\n",
      "Requirement already satisfied: six>=1.5 in c:\\users\\inkat\\appdata\\local\\programs\\python\\python311\\lib\\site-packages (from python-dateutil>=2.7->matplotlib->japanize-matplotlib) (1.16.0)\n"
     ]
    }
   ],
   "source": [
    "!pip install japanize-matplotlib"
   ]
  },
  {
   "cell_type": "code",
   "execution_count": 17,
   "metadata": {},
   "outputs": [],
   "source": [
    "from sklearn.metrics import mean_squared_error as MSE\n",
    "from sklearn.svm import SVR\n",
    "from sklearn.linear_model import Ridge\n",
    "from sklearn.linear_model import LinearRegression as LR\n",
    "import japanize_matplotlib\n",
    "from matplotlib import pyplot as plt\n",
    "import numpy as np\n",
    "import pandas as pd\n",
    "import re\n",
    "# データを表示する時に列を省略しないためのおまじない\n",
    "pd.options.display.max_columns = None\n",
    "\n",
    "%matplotlib inline\n",
    "\n",
    "# #日本語化matplotlibのインポート & 日本語のフォントを指定\n",
    "plt.rcParams['font.family'] = 'IPAexGothic'"
   ]
  },
  {
   "cell_type": "code",
   "execution_count": 18,
   "metadata": {},
   "outputs": [],
   "source": [
    "train = pd.read_csv(\"./input/train_all.csv\")\n",
    "test = pd.read_csv(\"./input/test_all.csv\")\n",
    "\n",
    "# 投稿用のサンプルファイルの読み込み\n",
    "sample = pd.read_csv(\"./input/sample_submit.csv\", header=None)"
   ]
  },
  {
   "cell_type": "markdown",
   "metadata": {},
   "source": [
    "# 前処理"
   ]
  },
  {
   "cell_type": "code",
   "execution_count": 19,
   "metadata": {},
   "outputs": [
    {
     "data": {
      "text/html": [
       "<div>\n",
       "<style scoped>\n",
       "    .dataframe tbody tr th:only-of-type {\n",
       "        vertical-align: middle;\n",
       "    }\n",
       "\n",
       "    .dataframe tbody tr th {\n",
       "        vertical-align: top;\n",
       "    }\n",
       "\n",
       "    .dataframe thead th {\n",
       "        text-align: right;\n",
       "    }\n",
       "</style>\n",
       "<table border=\"1\" class=\"dataframe\">\n",
       "  <thead>\n",
       "    <tr style=\"text-align: right;\">\n",
       "      <th></th>\n",
       "      <th>id</th>\n",
       "      <th>y</th>\n",
       "      <th>year</th>\n",
       "      <th>stage</th>\n",
       "      <th>match</th>\n",
       "      <th>gameday</th>\n",
       "      <th>stadium</th>\n",
       "      <th>home_score</th>\n",
       "      <th>away_score</th>\n",
       "      <th>weather</th>\n",
       "      <th>temperature</th>\n",
       "      <th>home_team</th>\n",
       "      <th>away_team</th>\n",
       "      <th>capa</th>\n",
       "      <th>capa_rate</th>\n",
       "    </tr>\n",
       "  </thead>\n",
       "  <tbody>\n",
       "    <tr>\n",
       "      <th>1059</th>\n",
       "      <td>15127</td>\n",
       "      <td>62632</td>\n",
       "      <td>2013</td>\n",
       "      <td>Ｊ１</td>\n",
       "      <td>第３３節第１日</td>\n",
       "      <td>11/30(土)</td>\n",
       "      <td>日産スタジアム</td>\n",
       "      <td>0</td>\n",
       "      <td>2</td>\n",
       "      <td>晴</td>\n",
       "      <td>12.7</td>\n",
       "      <td>横浜Ｆ・マリノス</td>\n",
       "      <td>アルビレックス新潟</td>\n",
       "      <td>72327</td>\n",
       "      <td>0.865956</td>\n",
       "    </tr>\n",
       "    <tr>\n",
       "      <th>1066</th>\n",
       "      <td>15134</td>\n",
       "      <td>54905</td>\n",
       "      <td>2013</td>\n",
       "      <td>Ｊ１</td>\n",
       "      <td>第３４節第１日</td>\n",
       "      <td>12/07(土)</td>\n",
       "      <td>埼玉スタジアム２００２</td>\n",
       "      <td>2</td>\n",
       "      <td>5</td>\n",
       "      <td>晴</td>\n",
       "      <td>12.6</td>\n",
       "      <td>浦和レッズ</td>\n",
       "      <td>セレッソ大阪</td>\n",
       "      <td>63700</td>\n",
       "      <td>0.861931</td>\n",
       "    </tr>\n",
       "    <tr>\n",
       "      <th>1654</th>\n",
       "      <td>15787</td>\n",
       "      <td>54350</td>\n",
       "      <td>2014</td>\n",
       "      <td>Ｊ１</td>\n",
       "      <td>第１４節第１日</td>\n",
       "      <td>05/17(土)</td>\n",
       "      <td>埼玉スタジアム２００２</td>\n",
       "      <td>1</td>\n",
       "      <td>0</td>\n",
       "      <td>晴</td>\n",
       "      <td>23.6</td>\n",
       "      <td>浦和レッズ</td>\n",
       "      <td>セレッソ大阪</td>\n",
       "      <td>63700</td>\n",
       "      <td>0.853218</td>\n",
       "    </tr>\n",
       "    <tr>\n",
       "      <th>784</th>\n",
       "      <td>14852</td>\n",
       "      <td>52293</td>\n",
       "      <td>2013</td>\n",
       "      <td>Ｊ１</td>\n",
       "      <td>第２節第１日</td>\n",
       "      <td>03/09(土)</td>\n",
       "      <td>埼玉スタジアム２００２</td>\n",
       "      <td>1</td>\n",
       "      <td>0</td>\n",
       "      <td>晴</td>\n",
       "      <td>21.6</td>\n",
       "      <td>浦和レッズ</td>\n",
       "      <td>名古屋グランパス</td>\n",
       "      <td>63700</td>\n",
       "      <td>0.820926</td>\n",
       "    </tr>\n",
       "    <tr>\n",
       "      <th>298</th>\n",
       "      <td>14292</td>\n",
       "      <td>51879</td>\n",
       "      <td>2012</td>\n",
       "      <td>Ｊ１</td>\n",
       "      <td>第３４節第１日</td>\n",
       "      <td>12/01(土)</td>\n",
       "      <td>埼玉スタジアム２００２</td>\n",
       "      <td>2</td>\n",
       "      <td>0</td>\n",
       "      <td>晴</td>\n",
       "      <td>5.6</td>\n",
       "      <td>浦和レッズ</td>\n",
       "      <td>名古屋グランパス</td>\n",
       "      <td>63700</td>\n",
       "      <td>0.814427</td>\n",
       "    </tr>\n",
       "  </tbody>\n",
       "</table>\n",
       "</div>"
      ],
      "text/plain": [
       "         id      y  year stage    match   gameday      stadium  home_score  \\\n",
       "1059  15127  62632  2013    Ｊ１  第３３節第１日  11/30(土)      日産スタジアム           0   \n",
       "1066  15134  54905  2013    Ｊ１  第３４節第１日  12/07(土)  埼玉スタジアム２００２           2   \n",
       "1654  15787  54350  2014    Ｊ１  第１４節第１日  05/17(土)  埼玉スタジアム２００２           1   \n",
       "784   14852  52293  2013    Ｊ１   第２節第１日  03/09(土)  埼玉スタジアム２００２           1   \n",
       "298   14292  51879  2012    Ｊ１  第３４節第１日  12/01(土)  埼玉スタジアム２００２           2   \n",
       "\n",
       "      away_score weather  temperature home_team  away_team   capa  capa_rate  \n",
       "1059           2       晴         12.7  横浜Ｆ・マリノス  アルビレックス新潟  72327   0.865956  \n",
       "1066           5       晴         12.6     浦和レッズ     セレッソ大阪  63700   0.861931  \n",
       "1654           0       晴         23.6     浦和レッズ     セレッソ大阪  63700   0.853218  \n",
       "784            0       晴         21.6     浦和レッズ   名古屋グランパス  63700   0.820926  \n",
       "298            0       晴          5.6     浦和レッズ   名古屋グランパス  63700   0.814427  "
      ]
     },
     "execution_count": 19,
     "metadata": {},
     "output_type": "execute_result"
    }
   ],
   "source": [
    "drop_list = [\n",
    "    \"tv\",\n",
    "    \"referee\",\n",
    "    \"time\",\n",
    "    \"home\",\n",
    "    \"away\",\n",
    "    \"home_01\", \"home_02\", \"home_03\", \"home_04\", \"home_05\", \"home_06\", \"home_07\", \"home_08\", \"home_09\", \"home_10\", \"home_11\",\n",
    "    \"away_01\", \"away_02\", \"away_03\", \"away_04\", \"away_05\", \"away_06\", \"away_07\", \"away_08\", \"away_09\", \"away_10\", \"away_11\",\n",
    "    \"address\",\n",
    "    \"humidity\",\n",
    "]\n",
    "train = train.drop(drop_list, axis=1)\n",
    "train = train.sort_values('y', ascending=False)\n",
    "train[\"capa_rate\"] = train.apply(lambda x: x[\"y\"] / x[\"capa\"], axis=1) # 収容率の追加\n",
    "train.head(5)"
   ]
  },
  {
   "cell_type": "markdown",
   "metadata": {},
   "source": [
    "## 外れ値の除外"
   ]
  },
  {
   "cell_type": "code",
   "execution_count": 20,
   "metadata": {},
   "outputs": [],
   "source": [
    "train = train[train[\"id\"] != 15127]\t# yの値が大きく外れたデータ\n",
    "train = train[train[\"id\"] != 15699]\t# yの値が0のデータ\n",
    "train = train[train[\"id\"] != 14071]\t# 木の中でyの値が外れたデータ\n",
    "train = train[train[\"id\"] != 14911]\t# 金の中でyの値が外れたデータ"
   ]
  },
  {
   "cell_type": "markdown",
   "metadata": {},
   "source": [
    "## 列の追加・削除"
   ]
  },
  {
   "cell_type": "code",
   "execution_count": 21,
   "metadata": {},
   "outputs": [],
   "source": [
    "train[\"capa_rate\"] = train.apply(lambda x: x[\"y\"] / x[\"capa\"], axis=1)"
   ]
  },
  {
   "cell_type": "code",
   "execution_count": 22,
   "metadata": {},
   "outputs": [],
   "source": [
    "train[\"WEEK\"] = train[\"gameday\"].apply(lambda x: x[x.find(\"(\")+1:x.find(\"(\")+2])\n",
    "datas = pd.get_dummies(train, columns=[\"WEEK\"], drop_first=True)"
   ]
  },
  {
   "cell_type": "code",
   "execution_count": 23,
   "metadata": {},
   "outputs": [],
   "source": [
    "train[\"stage\"] = train[\"stage\"].apply(lambda x: x[1])\n",
    "\n",
    "train[\"match_num\"] = train[\"match\"].apply(lambda x: int(re.findall(r'\\d+', x)[0]))\n",
    "train[\"match_day\"] = train[\"match\"].apply(lambda x: int(re.findall(r'\\d+', x)[1]))\n",
    "datas = datas.drop(\"match\", axis=1)"
   ]
  },
  {
   "cell_type": "markdown",
   "metadata": {},
   "source": [
    "# 可視化部分"
   ]
  },
  {
   "cell_type": "code",
   "execution_count": 25,
   "metadata": {},
   "outputs": [
    {
     "ename": "ValueError",
     "evalue": "not enough values to unpack (expected 2, got 0)",
     "output_type": "error",
     "traceback": [
      "\u001b[1;31m---------------------------------------------------------------------------\u001b[0m",
      "\u001b[1;31mValueError\u001b[0m                                Traceback (most recent call last)",
      "Cell \u001b[1;32mIn[25], line 2\u001b[0m\n\u001b[0;32m      1\u001b[0m fig,ax \u001b[39m=\u001b[39m plt\u001b[39m.\u001b[39msubplots(\u001b[39m1\u001b[39m,\u001b[39m2\u001b[39m,figsize\u001b[39m=\u001b[39m(\u001b[39m12\u001b[39m,\u001b[39m4\u001b[39m))\n\u001b[1;32m----> 2\u001b[0m train[train[\u001b[39m\"\u001b[39;49m\u001b[39mstage\u001b[39;49m\u001b[39m\"\u001b[39;49m]\u001b[39m==\u001b[39;49m\u001b[39m\"\u001b[39;49m\u001b[39mＪ１\u001b[39;49m\u001b[39m\"\u001b[39;49m][[\u001b[39m\"\u001b[39;49m\u001b[39mhome_team\u001b[39;49m\u001b[39m\"\u001b[39;49m,\u001b[39m\"\u001b[39;49m\u001b[39my\u001b[39;49m\u001b[39m\"\u001b[39;49m]]\u001b[39m.\u001b[39;49mboxplot(by\u001b[39m=\u001b[39;49m\u001b[39m\"\u001b[39;49m\u001b[39mhome_team\u001b[39;49m\u001b[39m\"\u001b[39;49m,rot\u001b[39m=\u001b[39;49m\u001b[39m90\u001b[39;49m,ax\u001b[39m=\u001b[39;49max[\u001b[39m0\u001b[39;49m])\n\u001b[0;32m      3\u001b[0m train[train[\u001b[39m\"\u001b[39m\u001b[39mstage\u001b[39m\u001b[39m\"\u001b[39m]\u001b[39m==\u001b[39m\u001b[39m\"\u001b[39m\u001b[39mＪ２\u001b[39m\u001b[39m\"\u001b[39m][[\u001b[39m\"\u001b[39m\u001b[39mhome_team\u001b[39m\u001b[39m\"\u001b[39m,\u001b[39m\"\u001b[39m\u001b[39my\u001b[39m\u001b[39m\"\u001b[39m]]\u001b[39m.\u001b[39mboxplot(by\u001b[39m=\u001b[39m\u001b[39m\"\u001b[39m\u001b[39mhome_team\u001b[39m\u001b[39m\"\u001b[39m,rot\u001b[39m=\u001b[39m\u001b[39m90\u001b[39m,ax\u001b[39m=\u001b[39max[\u001b[39m1\u001b[39m])\n\u001b[0;32m      4\u001b[0m ax[\u001b[39m0\u001b[39m]\u001b[39m.\u001b[39mset_title(\u001b[39m\"\u001b[39m\u001b[39mJ1\u001b[39m\u001b[39m\"\u001b[39m)\n",
      "File \u001b[1;32mc:\\Users\\inkat\\AppData\\Local\\Programs\\Python\\Python311\\Lib\\site-packages\\pandas\\plotting\\_core.py:507\u001b[0m, in \u001b[0;36mboxplot_frame\u001b[1;34m(self, column, by, ax, fontsize, rot, grid, figsize, layout, return_type, backend, **kwargs)\u001b[0m\n\u001b[0;32m    490\u001b[0m \u001b[39m@Substitution\u001b[39m(data\u001b[39m=\u001b[39m\u001b[39m\"\u001b[39m\u001b[39m\"\u001b[39m, backend\u001b[39m=\u001b[39m_backend_doc)\n\u001b[0;32m    491\u001b[0m \u001b[39m@Appender\u001b[39m(_boxplot_doc)\n\u001b[0;32m    492\u001b[0m \u001b[39mdef\u001b[39;00m \u001b[39mboxplot_frame\u001b[39m(\n\u001b[1;32m   (...)\u001b[0m\n\u001b[0;32m    504\u001b[0m     \u001b[39m*\u001b[39m\u001b[39m*\u001b[39mkwargs,\n\u001b[0;32m    505\u001b[0m ):\n\u001b[0;32m    506\u001b[0m     plot_backend \u001b[39m=\u001b[39m _get_plot_backend(backend)\n\u001b[1;32m--> 507\u001b[0m     \u001b[39mreturn\u001b[39;00m plot_backend\u001b[39m.\u001b[39;49mboxplot_frame(\n\u001b[0;32m    508\u001b[0m         \u001b[39mself\u001b[39;49m,\n\u001b[0;32m    509\u001b[0m         column\u001b[39m=\u001b[39;49mcolumn,\n\u001b[0;32m    510\u001b[0m         by\u001b[39m=\u001b[39;49mby,\n\u001b[0;32m    511\u001b[0m         ax\u001b[39m=\u001b[39;49max,\n\u001b[0;32m    512\u001b[0m         fontsize\u001b[39m=\u001b[39;49mfontsize,\n\u001b[0;32m    513\u001b[0m         rot\u001b[39m=\u001b[39;49mrot,\n\u001b[0;32m    514\u001b[0m         grid\u001b[39m=\u001b[39;49mgrid,\n\u001b[0;32m    515\u001b[0m         figsize\u001b[39m=\u001b[39;49mfigsize,\n\u001b[0;32m    516\u001b[0m         layout\u001b[39m=\u001b[39;49mlayout,\n\u001b[0;32m    517\u001b[0m         return_type\u001b[39m=\u001b[39;49mreturn_type,\n\u001b[0;32m    518\u001b[0m         \u001b[39m*\u001b[39;49m\u001b[39m*\u001b[39;49mkwargs,\n\u001b[0;32m    519\u001b[0m     )\n",
      "File \u001b[1;32mc:\\Users\\inkat\\AppData\\Local\\Programs\\Python\\Python311\\Lib\\site-packages\\pandas\\plotting\\_matplotlib\\boxplot.py:469\u001b[0m, in \u001b[0;36mboxplot_frame\u001b[1;34m(self, column, by, ax, fontsize, rot, grid, figsize, layout, return_type, **kwds)\u001b[0m\n\u001b[0;32m    454\u001b[0m \u001b[39mdef\u001b[39;00m \u001b[39mboxplot_frame\u001b[39m(\n\u001b[0;32m    455\u001b[0m     \u001b[39mself\u001b[39m,\n\u001b[0;32m    456\u001b[0m     column\u001b[39m=\u001b[39m\u001b[39mNone\u001b[39;00m,\n\u001b[1;32m   (...)\u001b[0m\n\u001b[0;32m    465\u001b[0m     \u001b[39m*\u001b[39m\u001b[39m*\u001b[39mkwds,\n\u001b[0;32m    466\u001b[0m ):\n\u001b[0;32m    467\u001b[0m     \u001b[39mimport\u001b[39;00m \u001b[39mmatplotlib\u001b[39;00m\u001b[39m.\u001b[39;00m\u001b[39mpyplot\u001b[39;00m \u001b[39mas\u001b[39;00m \u001b[39mplt\u001b[39;00m\n\u001b[1;32m--> 469\u001b[0m     ax \u001b[39m=\u001b[39m boxplot(\n\u001b[0;32m    470\u001b[0m         \u001b[39mself\u001b[39;49m,\n\u001b[0;32m    471\u001b[0m         column\u001b[39m=\u001b[39;49mcolumn,\n\u001b[0;32m    472\u001b[0m         by\u001b[39m=\u001b[39;49mby,\n\u001b[0;32m    473\u001b[0m         ax\u001b[39m=\u001b[39;49max,\n\u001b[0;32m    474\u001b[0m         fontsize\u001b[39m=\u001b[39;49mfontsize,\n\u001b[0;32m    475\u001b[0m         grid\u001b[39m=\u001b[39;49mgrid,\n\u001b[0;32m    476\u001b[0m         rot\u001b[39m=\u001b[39;49mrot,\n\u001b[0;32m    477\u001b[0m         figsize\u001b[39m=\u001b[39;49mfigsize,\n\u001b[0;32m    478\u001b[0m         layout\u001b[39m=\u001b[39;49mlayout,\n\u001b[0;32m    479\u001b[0m         return_type\u001b[39m=\u001b[39;49mreturn_type,\n\u001b[0;32m    480\u001b[0m         \u001b[39m*\u001b[39;49m\u001b[39m*\u001b[39;49mkwds,\n\u001b[0;32m    481\u001b[0m     )\n\u001b[0;32m    482\u001b[0m     plt\u001b[39m.\u001b[39mdraw_if_interactive()\n\u001b[0;32m    483\u001b[0m     \u001b[39mreturn\u001b[39;00m ax\n",
      "File \u001b[1;32mc:\\Users\\inkat\\AppData\\Local\\Programs\\Python\\Python311\\Lib\\site-packages\\pandas\\plotting\\_matplotlib\\boxplot.py:415\u001b[0m, in \u001b[0;36mboxplot\u001b[1;34m(data, column, by, ax, fontsize, rot, grid, figsize, layout, return_type, **kwds)\u001b[0m\n\u001b[0;32m    410\u001b[0m         columns \u001b[39m=\u001b[39m [column]\n\u001b[0;32m    412\u001b[0m \u001b[39mif\u001b[39;00m by \u001b[39mis\u001b[39;00m \u001b[39mnot\u001b[39;00m \u001b[39mNone\u001b[39;00m:\n\u001b[0;32m    413\u001b[0m     \u001b[39m# Prefer array return type for 2-D plots to match the subplot layout\u001b[39;00m\n\u001b[0;32m    414\u001b[0m     \u001b[39m# https://github.com/pandas-dev/pandas/pull/12216#issuecomment-241175580\u001b[39;00m\n\u001b[1;32m--> 415\u001b[0m     result \u001b[39m=\u001b[39m _grouped_plot_by_column(\n\u001b[0;32m    416\u001b[0m         plot_group,\n\u001b[0;32m    417\u001b[0m         data,\n\u001b[0;32m    418\u001b[0m         columns\u001b[39m=\u001b[39;49mcolumns,\n\u001b[0;32m    419\u001b[0m         by\u001b[39m=\u001b[39;49mby,\n\u001b[0;32m    420\u001b[0m         grid\u001b[39m=\u001b[39;49mgrid,\n\u001b[0;32m    421\u001b[0m         figsize\u001b[39m=\u001b[39;49mfigsize,\n\u001b[0;32m    422\u001b[0m         ax\u001b[39m=\u001b[39;49max,\n\u001b[0;32m    423\u001b[0m         layout\u001b[39m=\u001b[39;49mlayout,\n\u001b[0;32m    424\u001b[0m         return_type\u001b[39m=\u001b[39;49mreturn_type,\n\u001b[0;32m    425\u001b[0m         \u001b[39m*\u001b[39;49m\u001b[39m*\u001b[39;49mkwds,\n\u001b[0;32m    426\u001b[0m     )\n\u001b[0;32m    427\u001b[0m \u001b[39melse\u001b[39;00m:\n\u001b[0;32m    428\u001b[0m     \u001b[39mif\u001b[39;00m return_type \u001b[39mis\u001b[39;00m \u001b[39mNone\u001b[39;00m:\n",
      "File \u001b[1;32mc:\\Users\\inkat\\AppData\\Local\\Programs\\Python\\Python311\\Lib\\site-packages\\pandas\\plotting\\_matplotlib\\boxplot.py:285\u001b[0m, in \u001b[0;36m_grouped_plot_by_column\u001b[1;34m(plotf, data, columns, by, numeric_only, grid, figsize, ax, layout, return_type, **kwargs)\u001b[0m\n\u001b[0;32m    283\u001b[0m ax \u001b[39m=\u001b[39m _axes[i]\n\u001b[0;32m    284\u001b[0m gp_col \u001b[39m=\u001b[39m grouped[col]\n\u001b[1;32m--> 285\u001b[0m keys, values \u001b[39m=\u001b[39m \u001b[39mzip\u001b[39m(\u001b[39m*\u001b[39mgp_col)\n\u001b[0;32m    286\u001b[0m re_plotf \u001b[39m=\u001b[39m plotf(keys, values, ax, xlabel\u001b[39m=\u001b[39mxlabel, ylabel\u001b[39m=\u001b[39mylabel, \u001b[39m*\u001b[39m\u001b[39m*\u001b[39mkwargs)\n\u001b[0;32m    287\u001b[0m ax\u001b[39m.\u001b[39mset_title(col)\n",
      "\u001b[1;31mValueError\u001b[0m: not enough values to unpack (expected 2, got 0)"
     ]
    },
    {
     "data": {
      "image/png": "[encoded data removed]",
      "text/plain": [
       "<Figure size 1200x400 with 2 Axes>"
      ]
     },
     "metadata": {},
     "output_type": "display_data"
    }
   ],
   "source": [
    "fig,ax = plt.subplots(1,2,figsize=(12,4))\n",
    "train[train[\"stage\"]==\"Ｊ１\"][[\"home_team\",\"y\"]].boxplot(by=\"home_team\",rot=90,ax=ax[0])\n",
    "train[train[\"stage\"]==\"Ｊ２\"][[\"home_team\",\"y\"]].boxplot(by=\"home_team\",rot=90,ax=ax[1])\n",
    "ax[0].set_title(\"J1\")\n",
    "ax[1].set_title(\"J2\")"
   ]
  }
 ],
 "metadata": {
  "kernelspec": {
   "display_name": "Python 3",
   "language": "python",
   "name": "python3"
  },
  "language_info": {
   "codemirror_mode": {
    "name": "ipython",
    "version": 3
   },
   "file_extension": ".py",
   "mimetype": "text/x-python",
   "name": "python",
   "nbconvert_exporter": "python",
   "pygments_lexer": "ipython3",
   "version": "3.11.1"
  },
  "orig_nbformat": 4
 },
 "nbformat": 4,
 "nbformat_minor": 2
}
