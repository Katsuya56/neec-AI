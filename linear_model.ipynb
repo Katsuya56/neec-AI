{
 "cells": [
  {
   "cell_type": "markdown",
   "metadata": {},
   "source": [
    "# 線形モデル"
   ]
  },
  {
   "attachments": {},
   "cell_type": "markdown",
   "metadata": {},
   "source": [
    "## import"
   ]
  },
  {
   "cell_type": "code",
   "execution_count": 125,
   "metadata": {},
   "outputs": [],
   "source": [
    "from sklearn.linear_model import LinearRegression\n",
    "import matplotlib.pyplot as plt\n",
    "from sklearn.linear_model import Ridge\n",
    "from sklearn.model_selection import train_test_split\n",
    "import re\n",
    "import pandas as pd"
   ]
  },
  {
   "attachments": {},
   "cell_type": "markdown",
   "metadata": {},
   "source": [
    "## 教師データ"
   ]
  },
  {
   "cell_type": "code",
   "execution_count": 126,
   "metadata": {},
   "outputs": [
    {
     "data": {
      "text/html": [
       "<div>\n",
       "<style scoped>\n",
       "    .dataframe tbody tr th:only-of-type {\n",
       "        vertical-align: middle;\n",
       "    }\n",
       "\n",
       "    .dataframe tbody tr th {\n",
       "        vertical-align: top;\n",
       "    }\n",
       "\n",
       "    .dataframe thead th {\n",
       "        text-align: right;\n",
       "    }\n",
       "</style>\n",
       "<table border=\"1\" class=\"dataframe\">\n",
       "  <thead>\n",
       "    <tr style=\"text-align: right;\">\n",
       "      <th></th>\n",
       "      <th>y</th>\n",
       "      <th>year</th>\n",
       "      <th>stage</th>\n",
       "      <th>match</th>\n",
       "      <th>gameday</th>\n",
       "      <th>stadium</th>\n",
       "      <th>home_score</th>\n",
       "      <th>away_score</th>\n",
       "      <th>weather</th>\n",
       "      <th>temperature</th>\n",
       "      <th>humidity</th>\n",
       "      <th>home_team</th>\n",
       "      <th>away_team</th>\n",
       "      <th>capa</th>\n",
       "    </tr>\n",
       "  </thead>\n",
       "  <tbody>\n",
       "    <tr>\n",
       "      <th>1313</th>\n",
       "      <td>1104</td>\n",
       "      <td>2013</td>\n",
       "      <td>Ｊ２</td>\n",
       "      <td>第２２節第１日</td>\n",
       "      <td>07/03(水)</td>\n",
       "      <td>ニンジニアスタジアム</td>\n",
       "      <td>1</td>\n",
       "      <td>1</td>\n",
       "      <td>雨</td>\n",
       "      <td>26.9</td>\n",
       "      <td>72%</td>\n",
       "      <td>愛媛ＦＣ</td>\n",
       "      <td>ロアッソ熊本</td>\n",
       "      <td>15576</td>\n",
       "    </tr>\n",
       "    <tr>\n",
       "      <th>506</th>\n",
       "      <td>1333</td>\n",
       "      <td>2012</td>\n",
       "      <td>Ｊ２</td>\n",
       "      <td>第１９節第１日</td>\n",
       "      <td>06/13(水)</td>\n",
       "      <td>正田醤油スタジアム群馬</td>\n",
       "      <td>0</td>\n",
       "      <td>0</td>\n",
       "      <td>曇</td>\n",
       "      <td>19.4</td>\n",
       "      <td>70%</td>\n",
       "      <td>ザスパ草津</td>\n",
       "      <td>ロアッソ熊本</td>\n",
       "      <td>15135</td>\n",
       "    </tr>\n",
       "    <tr>\n",
       "      <th>696</th>\n",
       "      <td>1363</td>\n",
       "      <td>2012</td>\n",
       "      <td>Ｊ２</td>\n",
       "      <td>第３６節第１日</td>\n",
       "      <td>09/30(日)</td>\n",
       "      <td>とりぎんバードスタジアム</td>\n",
       "      <td>2</td>\n",
       "      <td>0</td>\n",
       "      <td>雨</td>\n",
       "      <td>20.0</td>\n",
       "      <td>80%</td>\n",
       "      <td>ガイナーレ鳥取</td>\n",
       "      <td>ザスパ草津</td>\n",
       "      <td>16033</td>\n",
       "    </tr>\n",
       "    <tr>\n",
       "      <th>406</th>\n",
       "      <td>1447</td>\n",
       "      <td>2012</td>\n",
       "      <td>Ｊ２</td>\n",
       "      <td>第１０節第１日</td>\n",
       "      <td>04/27(金)</td>\n",
       "      <td>正田醤油スタジアム群馬</td>\n",
       "      <td>0</td>\n",
       "      <td>2</td>\n",
       "      <td>曇</td>\n",
       "      <td>16.9</td>\n",
       "      <td>87%</td>\n",
       "      <td>ザスパ草津</td>\n",
       "      <td>ギラヴァンツ北九州</td>\n",
       "      <td>15135</td>\n",
       "    </tr>\n",
       "    <tr>\n",
       "      <th>1748</th>\n",
       "      <td>1450</td>\n",
       "      <td>2014</td>\n",
       "      <td>Ｊ２</td>\n",
       "      <td>第６節第１日</td>\n",
       "      <td>04/05(土)</td>\n",
       "      <td>香川県立丸亀競技場</td>\n",
       "      <td>0</td>\n",
       "      <td>1</td>\n",
       "      <td>晴のち曇</td>\n",
       "      <td>15.5</td>\n",
       "      <td>57%</td>\n",
       "      <td>カマタマーレ讃岐</td>\n",
       "      <td>栃木ＳＣ</td>\n",
       "      <td>22338</td>\n",
       "    </tr>\n",
       "  </tbody>\n",
       "</table>\n",
       "</div>"
      ],
      "text/plain": [
       "         y  year stage    match   gameday       stadium  home_score  \\\n",
       "1313  1104  2013    Ｊ２  第２２節第１日  07/03(水)    ニンジニアスタジアム           1   \n",
       "506   1333  2012    Ｊ２  第１９節第１日  06/13(水)   正田醤油スタジアム群馬           0   \n",
       "696   1363  2012    Ｊ２  第３６節第１日  09/30(日)  とりぎんバードスタジアム           2   \n",
       "406   1447  2012    Ｊ２  第１０節第１日  04/27(金)   正田醤油スタジアム群馬           0   \n",
       "1748  1450  2014    Ｊ２   第６節第１日  04/05(土)     香川県立丸亀競技場           0   \n",
       "\n",
       "      away_score weather  temperature humidity home_team  away_team   capa  \n",
       "1313           1       雨         26.9      72%      愛媛ＦＣ     ロアッソ熊本  15576  \n",
       "506            0       曇         19.4      70%     ザスパ草津     ロアッソ熊本  15135  \n",
       "696            0       雨         20.0      80%   ガイナーレ鳥取      ザスパ草津  16033  \n",
       "406            2       曇         16.9      87%     ザスパ草津  ギラヴァンツ北九州  15135  \n",
       "1748           1    晴のち曇         15.5      57%  カマタマーレ讃岐       栃木ＳＣ  22338  "
      ]
     },
     "execution_count": 126,
     "metadata": {},
     "output_type": "execute_result"
    }
   ],
   "source": [
    "datas = pd.read_csv(\"train_all.csv\")\n",
    "drop_list = [\n",
    "    \"id\",\n",
    "    \"tv\",\n",
    "    \"referee\",\n",
    "    \"time\",\n",
    "    \"home\",\n",
    "    \"away\",\n",
    "    \"home_01\", \"home_02\", \"home_03\", \"home_04\", \"home_05\", \"home_06\", \"home_07\", \"home_08\", \"home_09\", \"home_10\", \"home_11\",\n",
    "    \"away_01\", \"away_02\", \"away_03\", \"away_04\", \"away_05\", \"away_06\", \"away_07\", \"away_08\", \"away_09\", \"away_10\", \"away_11\",\n",
    "    \"address\",\n",
    "]\n",
    "datas = datas.drop(drop_list, axis=1)\n",
    "\n",
    "datas = datas.sort_values(by=\"y\")\n",
    "datas = datas[datas[\"y\"] != 0]\n",
    "\n",
    "# # datas.columns\n",
    "datas.head(5)\n"
   ]
  },
  {
   "attachments": {},
   "cell_type": "markdown",
   "metadata": {},
   "source": [
    "### 欠損値の確認"
   ]
  },
  {
   "cell_type": "code",
   "execution_count": 127,
   "metadata": {},
   "outputs": [
    {
     "data": {
      "text/plain": [
       "y              0\n",
       "year           0\n",
       "stage          0\n",
       "match          0\n",
       "gameday        0\n",
       "stadium        0\n",
       "home_score     0\n",
       "away_score     0\n",
       "weather        0\n",
       "temperature    0\n",
       "humidity       0\n",
       "home_team      0\n",
       "away_team      0\n",
       "capa           0\n",
       "dtype: int64"
      ]
     },
     "execution_count": 127,
     "metadata": {},
     "output_type": "execute_result"
    }
   ],
   "source": [
    "missing_values = datas.isnull().sum()\n",
    "missing_values"
   ]
  },
  {
   "attachments": {},
   "cell_type": "markdown",
   "metadata": {},
   "source": [
    "## 前処理"
   ]
  },
  {
   "cell_type": "markdown",
   "metadata": {},
   "source": [
    "### 日付関係"
   ]
  },
  {
   "cell_type": "code",
   "execution_count": 128,
   "metadata": {},
   "outputs": [],
   "source": [
    "datas[\"MONTH\"] = datas[\"gameday\"].apply(lambda x : x[0:2])\n",
    "datas[\"DAY\"] = datas[\"gameday\"].apply(lambda x : x[3:5])\n",
    "datas[\"WEEK\"] = datas[\"gameday\"].apply(lambda x : x[x.find(\"(\")+1:x.find(\"(\")+2])\n",
    "datas = pd.get_dummies(datas, columns=[\"WEEK\"], drop_first=True)\n",
    "datas = datas.drop(\"gameday\", axis=1)"
   ]
  },
  {
   "cell_type": "markdown",
   "metadata": {},
   "source": [
    "### 試合？関係"
   ]
  },
  {
   "cell_type": "code",
   "execution_count": 129,
   "metadata": {},
   "outputs": [],
   "source": [
    "datas[\"stage\"] = datas[\"stage\"].apply(lambda x : x[1])\n",
    "datas[\"match_num\"] = datas[\"match\"].apply(lambda x : int(re.findall(r'\\d+', x)[0]))\n",
    "datas[\"match_day\"] = datas[\"match\"].apply(lambda x : int(re.findall(r'\\d+', x)[1]))\n",
    "datas = datas.drop(\"match\", axis=1)"
   ]
  },
  {
   "cell_type": "markdown",
   "metadata": {},
   "source": [
    "### チーム関係"
   ]
  },
  {
   "cell_type": "code",
   "execution_count": 130,
   "metadata": {},
   "outputs": [],
   "source": [
    "datas = pd.get_dummies(datas, columns=[\"home_team\"], drop_first=True)\n",
    "datas = pd.get_dummies(datas, columns=[\"away_team\"], drop_first=True)"
   ]
  },
  {
   "cell_type": "code",
   "execution_count": 131,
   "metadata": {},
   "outputs": [
    {
     "name": "stdout",
     "output_type": "stream",
     "text": [
      "<class 'pandas.core.frame.DataFrame'>\n",
      "Index: 1952 entries, 1313 to 1059\n",
      "Columns: 104 entries, y to away_team_Ｖ・ファーレン長崎\n",
      "dtypes: bool(90), float64(1), int64(7), object(6)\n",
      "memory usage: 400.3+ KB\n"
     ]
    }
   ],
   "source": [
    "datas.head(1)\n",
    "datas.info()"
   ]
  },
  {
   "attachments": {},
   "cell_type": "markdown",
   "metadata": {},
   "source": [
    "## 説明変数"
   ]
  },
  {
   "cell_type": "code",
   "execution_count": 132,
   "metadata": {},
   "outputs": [],
   "source": [
    "# 説明変数を設定\n",
    "not_need_cols = [\n",
    "\t\"stadium\",\n",
    "\t\"weather\",\n",
    "\t\"humidity\",\n",
    "\t\"y\",\n",
    "]"
   ]
  },
  {
   "cell_type": "code",
   "execution_count": 133,
   "metadata": {},
   "outputs": [],
   "source": [
    "X = datas.drop(not_need_cols, axis=1)\n",
    "y = datas[\"y\"]"
   ]
  },
  {
   "cell_type": "code",
   "execution_count": 134,
   "metadata": {},
   "outputs": [
    {
     "data": {
      "text/html": [
       "<div>\n",
       "<style scoped>\n",
       "    .dataframe tbody tr th:only-of-type {\n",
       "        vertical-align: middle;\n",
       "    }\n",
       "\n",
       "    .dataframe tbody tr th {\n",
       "        vertical-align: top;\n",
       "    }\n",
       "\n",
       "    .dataframe thead th {\n",
       "        text-align: right;\n",
       "    }\n",
       "</style>\n",
       "<table border=\"1\" class=\"dataframe\">\n",
       "  <thead>\n",
       "    <tr style=\"text-align: right;\">\n",
       "      <th></th>\n",
       "      <th>year</th>\n",
       "      <th>stage</th>\n",
       "      <th>home_score</th>\n",
       "      <th>away_score</th>\n",
       "      <th>temperature</th>\n",
       "      <th>capa</th>\n",
       "      <th>MONTH</th>\n",
       "      <th>DAY</th>\n",
       "      <th>WEEK_日</th>\n",
       "      <th>WEEK_月</th>\n",
       "      <th>...</th>\n",
       "      <th>away_team_横浜ＦＣ</th>\n",
       "      <th>away_team_水戸ホーリーホック</th>\n",
       "      <th>away_team_浦和レッズ</th>\n",
       "      <th>away_team_清水エスパルス</th>\n",
       "      <th>away_team_湘南ベルマーレ</th>\n",
       "      <th>away_team_鹿島アントラーズ</th>\n",
       "      <th>away_team_ＦＣ岐阜</th>\n",
       "      <th>away_team_ＦＣ東京</th>\n",
       "      <th>away_team_ＦＣ町田ゼルビア</th>\n",
       "      <th>away_team_Ｖ・ファーレン長崎</th>\n",
       "    </tr>\n",
       "  </thead>\n",
       "  <tbody>\n",
       "    <tr>\n",
       "      <th>1313</th>\n",
       "      <td>2013</td>\n",
       "      <td>２</td>\n",
       "      <td>1</td>\n",
       "      <td>1</td>\n",
       "      <td>26.9</td>\n",
       "      <td>15576</td>\n",
       "      <td>07</td>\n",
       "      <td>03</td>\n",
       "      <td>False</td>\n",
       "      <td>False</td>\n",
       "      <td>...</td>\n",
       "      <td>False</td>\n",
       "      <td>False</td>\n",
       "      <td>False</td>\n",
       "      <td>False</td>\n",
       "      <td>False</td>\n",
       "      <td>False</td>\n",
       "      <td>False</td>\n",
       "      <td>False</td>\n",
       "      <td>False</td>\n",
       "      <td>False</td>\n",
       "    </tr>\n",
       "    <tr>\n",
       "      <th>506</th>\n",
       "      <td>2012</td>\n",
       "      <td>２</td>\n",
       "      <td>0</td>\n",
       "      <td>0</td>\n",
       "      <td>19.4</td>\n",
       "      <td>15135</td>\n",
       "      <td>06</td>\n",
       "      <td>13</td>\n",
       "      <td>False</td>\n",
       "      <td>False</td>\n",
       "      <td>...</td>\n",
       "      <td>False</td>\n",
       "      <td>False</td>\n",
       "      <td>False</td>\n",
       "      <td>False</td>\n",
       "      <td>False</td>\n",
       "      <td>False</td>\n",
       "      <td>False</td>\n",
       "      <td>False</td>\n",
       "      <td>False</td>\n",
       "      <td>False</td>\n",
       "    </tr>\n",
       "    <tr>\n",
       "      <th>696</th>\n",
       "      <td>2012</td>\n",
       "      <td>２</td>\n",
       "      <td>2</td>\n",
       "      <td>0</td>\n",
       "      <td>20.0</td>\n",
       "      <td>16033</td>\n",
       "      <td>09</td>\n",
       "      <td>30</td>\n",
       "      <td>True</td>\n",
       "      <td>False</td>\n",
       "      <td>...</td>\n",
       "      <td>False</td>\n",
       "      <td>False</td>\n",
       "      <td>False</td>\n",
       "      <td>False</td>\n",
       "      <td>False</td>\n",
       "      <td>False</td>\n",
       "      <td>False</td>\n",
       "      <td>False</td>\n",
       "      <td>False</td>\n",
       "      <td>False</td>\n",
       "    </tr>\n",
       "    <tr>\n",
       "      <th>406</th>\n",
       "      <td>2012</td>\n",
       "      <td>２</td>\n",
       "      <td>0</td>\n",
       "      <td>2</td>\n",
       "      <td>16.9</td>\n",
       "      <td>15135</td>\n",
       "      <td>04</td>\n",
       "      <td>27</td>\n",
       "      <td>False</td>\n",
       "      <td>False</td>\n",
       "      <td>...</td>\n",
       "      <td>False</td>\n",
       "      <td>False</td>\n",
       "      <td>False</td>\n",
       "      <td>False</td>\n",
       "      <td>False</td>\n",
       "      <td>False</td>\n",
       "      <td>False</td>\n",
       "      <td>False</td>\n",
       "      <td>False</td>\n",
       "      <td>False</td>\n",
       "    </tr>\n",
       "    <tr>\n",
       "      <th>1748</th>\n",
       "      <td>2014</td>\n",
       "      <td>２</td>\n",
       "      <td>0</td>\n",
       "      <td>1</td>\n",
       "      <td>15.5</td>\n",
       "      <td>22338</td>\n",
       "      <td>04</td>\n",
       "      <td>05</td>\n",
       "      <td>False</td>\n",
       "      <td>False</td>\n",
       "      <td>...</td>\n",
       "      <td>False</td>\n",
       "      <td>False</td>\n",
       "      <td>False</td>\n",
       "      <td>False</td>\n",
       "      <td>False</td>\n",
       "      <td>False</td>\n",
       "      <td>False</td>\n",
       "      <td>False</td>\n",
       "      <td>False</td>\n",
       "      <td>False</td>\n",
       "    </tr>\n",
       "  </tbody>\n",
       "</table>\n",
       "<p>5 rows × 100 columns</p>\n",
       "</div>"
      ],
      "text/plain": [
       "      year stage  home_score  away_score  temperature   capa MONTH DAY  \\\n",
       "1313  2013     ２           1           1         26.9  15576    07  03   \n",
       "506   2012     ２           0           0         19.4  15135    06  13   \n",
       "696   2012     ２           2           0         20.0  16033    09  30   \n",
       "406   2012     ２           0           2         16.9  15135    04  27   \n",
       "1748  2014     ２           0           1         15.5  22338    04  05   \n",
       "\n",
       "      WEEK_日  WEEK_月  ...  away_team_横浜ＦＣ  away_team_水戸ホーリーホック  \\\n",
       "1313   False   False  ...           False                False   \n",
       "506    False   False  ...           False                False   \n",
       "696     True   False  ...           False                False   \n",
       "406    False   False  ...           False                False   \n",
       "1748   False   False  ...           False                False   \n",
       "\n",
       "      away_team_浦和レッズ  away_team_清水エスパルス  away_team_湘南ベルマーレ  \\\n",
       "1313            False              False              False   \n",
       "506             False              False              False   \n",
       "696             False              False              False   \n",
       "406             False              False              False   \n",
       "1748            False              False              False   \n",
       "\n",
       "      away_team_鹿島アントラーズ  away_team_ＦＣ岐阜  away_team_ＦＣ東京  away_team_ＦＣ町田ゼルビア  \\\n",
       "1313               False           False           False               False   \n",
       "506                False           False           False               False   \n",
       "696                False           False           False               False   \n",
       "406                False           False           False               False   \n",
       "1748               False           False           False               False   \n",
       "\n",
       "      away_team_Ｖ・ファーレン長崎  \n",
       "1313                False  \n",
       "506                 False  \n",
       "696                 False  \n",
       "406                 False  \n",
       "1748                False  \n",
       "\n",
       "[5 rows x 100 columns]"
      ]
     },
     "execution_count": 134,
     "metadata": {},
     "output_type": "execute_result"
    }
   ],
   "source": [
    "X.head()"
   ]
  },
  {
   "attachments": {},
   "cell_type": "markdown",
   "metadata": {},
   "source": [
    "## テスト用データにのみ教師データがあるのでテスト用データを訓練データとテストデータに分ける"
   ]
  },
  {
   "cell_type": "code",
   "execution_count": 135,
   "metadata": {},
   "outputs": [],
   "source": [
    "X_train, X_test, y_train, y_test = train_test_split(X, y, random_state=42)"
   ]
  },
  {
   "attachments": {},
   "cell_type": "markdown",
   "metadata": {},
   "source": [
    "## 学習とスコアの表示"
   ]
  },
  {
   "attachments": {},
   "cell_type": "markdown",
   "metadata": {},
   "source": [
    "### Ridge回帰"
   ]
  },
  {
   "cell_type": "code",
   "execution_count": 136,
   "metadata": {},
   "outputs": [
    {
     "name": "stdout",
     "output_type": "stream",
     "text": [
      "Training set score: 0.84\n",
      "Test set score: 0.86\n"
     ]
    }
   ],
   "source": [
    "ridge = Ridge().fit(X_train, y_train)\n",
    "print(\"Training set score: {:.2f}\".format(ridge.score(X_train, y_train)))\n",
    "print(\"Test set score: {:.2f}\".format(ridge.score(X_test, y_test)))"
   ]
  },
  {
   "cell_type": "code",
   "execution_count": 137,
   "metadata": {},
   "outputs": [
    {
     "name": "stdout",
     "output_type": "stream",
     "text": [
      "Training set score: 0.82\n",
      "Test set score: 0.84\n"
     ]
    }
   ],
   "source": [
    "ridge10 = Ridge(alpha=10).fit(X_train, y_train)\n",
    "print(\"Training set score: {:.2f}\".format(ridge10.score(X_train, y_train)))\n",
    "print(\"Test set score: {:.2f}\".format(ridge10.score(X_test, y_test)))"
   ]
  },
  {
   "cell_type": "code",
   "execution_count": 138,
   "metadata": {},
   "outputs": [
    {
     "name": "stdout",
     "output_type": "stream",
     "text": [
      "Training set score: 0.85\n",
      "Test set score: 0.87\n"
     ]
    }
   ],
   "source": [
    "ridge01 = Ridge(alpha=0.1).fit(X_train, y_train)\n",
    "print(\"Training set score: {:.2f}\".format(ridge01.score(X_train, y_train)))\n",
    "print(\"Test set score: {:.2f}\".format(ridge01.score(X_test, y_test)))"
   ]
  },
  {
   "attachments": {},
   "cell_type": "markdown",
   "metadata": {},
   "source": [
    "### 通常最小二乗法"
   ]
  },
  {
   "cell_type": "code",
   "execution_count": 139,
   "metadata": {},
   "outputs": [
    {
     "name": "stdout",
     "output_type": "stream",
     "text": [
      "Training set score: 0.85\n",
      "Test set score: 0.87\n"
     ]
    }
   ],
   "source": [
    "lr = LinearRegression().fit(X_train, y_train)\n",
    "print(\"Training set score: {:.2f}\".format(lr.score(X_train, y_train)))\n",
    "print(\"Test set score: {:.2f}\".format(lr.score(X_test, y_test)))"
   ]
  }
 ],
 "metadata": {
  "kernelspec": {
   "display_name": "Python 3",
   "language": "python",
   "name": "python3"
  },
  "language_info": {
   "codemirror_mode": {
    "name": "ipython",
    "version": 3
   },
   "file_extension": ".py",
   "mimetype": "text/x-python",
   "name": "python",
   "nbconvert_exporter": "python",
   "pygments_lexer": "ipython3",
   "version": "3.11.1"
  }
 },
 "nbformat": 4,
 "nbformat_minor": 2
}
