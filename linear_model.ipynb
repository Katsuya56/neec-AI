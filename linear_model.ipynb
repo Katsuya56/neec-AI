{
 "cells": [
  {
   "cell_type": "markdown",
   "metadata": {},
   "source": [
    "# 線形モデル"
   ]
  },
  {
   "attachments": {},
   "cell_type": "markdown",
   "metadata": {},
   "source": [
    "## import"
   ]
  },
  {
   "cell_type": "code",
<<<<<<< HEAD
   "execution_count": 1,
=======
   "execution_count": 108,
>>>>>>> 845e6a40b711c1ab0cc766f6e624441164218e64
   "metadata": {},
   "outputs": [],
   "source": [
    "from sklearn.linear_model import LinearRegression\n",
    "import matplotlib.pyplot as plt\n",
    "from sklearn.linear_model import Ridge\n",
    "from sklearn.model_selection import train_test_split\n",
    "import re\n",
    "import numpy as np\n",
    "import pandas as pd"
   ]
  },
  {
   "attachments": {},
   "cell_type": "markdown",
   "metadata": {},
   "source": [
    "## 教師データ"
   ]
  },
  {
   "cell_type": "code",
<<<<<<< HEAD
   "execution_count": 3,
=======
   "execution_count": 109,
>>>>>>> 845e6a40b711c1ab0cc766f6e624441164218e64
   "metadata": {},
   "outputs": [],
   "source": [
    "datas = pd.read_csv(\"train_all.csv\")\n",
    "drop_list = [\"id\", \"tv\",\"referee\",\"home_01\",\"home_02\",\"home_03\",\"home_04\",\"home_05\",\"home_06\",\"home_07\",\"home_08\",\"home_09\",\"home_10\",\"home_11\",\"away_01\",\"away_02\",\"away_03\",\"away_04\",\"away_05\",\"away_06\",\"away_07\",\"away_08\",\"away_09\",\"away_10\",\"away_11\"]\n",
    "datas = datas.drop(drop_list, axis=1)"
   ]
  },
  {
   "attachments": {},
   "cell_type": "markdown",
   "metadata": {},
   "source": [
    "### 欠損値の確認"
   ]
  },
  {
   "cell_type": "code",
<<<<<<< HEAD
   "execution_count": 4,
=======
   "execution_count": 110,
>>>>>>> 845e6a40b711c1ab0cc766f6e624441164218e64
   "metadata": {},
   "outputs": [
    {
     "data": {
      "text/plain": [
       "y              0\n",
       "year           0\n",
       "stage          0\n",
       "match          0\n",
       "gameday        0\n",
       "time           0\n",
       "home           0\n",
       "away           0\n",
       "stadium        0\n",
       "home_score     0\n",
       "away_score     0\n",
       "weather        0\n",
       "temperature    0\n",
       "humidity       0\n",
       "home_team      0\n",
       "away_team      0\n",
       "address        0\n",
       "capa           0\n",
       "dtype: int64"
      ]
     },
<<<<<<< HEAD
     "execution_count": 4,
=======
     "execution_count": 110,
>>>>>>> 845e6a40b711c1ab0cc766f6e624441164218e64
     "metadata": {},
     "output_type": "execute_result"
    }
   ],
   "source": [
    "missing_values = datas.isnull().sum()\n",
    "missing_values"
   ]
  },
  {
   "attachments": {},
   "cell_type": "markdown",
   "metadata": {},
   "source": [
    "## 前処理"
   ]
  },
  {
   "cell_type": "markdown",
   "metadata": {},
   "source": [
    "### 日付関係"
   ]
  },
  {
   "cell_type": "code",
<<<<<<< HEAD
   "execution_count": 5,
=======
   "execution_count": 111,
>>>>>>> 845e6a40b711c1ab0cc766f6e624441164218e64
   "metadata": {},
   "outputs": [],
   "source": [
    "datas[\"MONTH\"] = datas[\"gameday\"].apply(lambda x : x[0:2])\n",
    "datas[\"DAY\"] = datas[\"gameday\"].apply(lambda x : x[3:5])\n",
<<<<<<< HEAD
    "datas[\"DAY\"] = datas[\"DAY\"].astype(int)\n",
    "datas[\"stage\"] = datas[\"stage\"].apply(lambda x : x[1])\n",
=======
    "# TODO: 曜日\n",
    "datas[\"WEEK\"] = datas[\"gameday\"].apply(lambda x : x[x.find(\"(\")+1:x.find(\"(\")+2])\n",
    "datas = pd.get_dummies(datas, columns=[\"WEEK\"], drop_first=True)\n",
>>>>>>> 845e6a40b711c1ab0cc766f6e624441164218e64
    "datas = datas.drop(\"gameday\", axis=1)"
   ]
  },
  {
   "cell_type": "markdown",
   "metadata": {},
   "source": [
    "### 試合？関係"
   ]
  },
  {
   "cell_type": "code",
<<<<<<< HEAD
   "execution_count": 6,
=======
   "execution_count": 112,
   "metadata": {},
   "outputs": [],
   "source": [
    "datas[\"stage\"] = datas[\"stage\"].apply(lambda x : x[1])\n",
    "datas[\"match_num\"] = datas[\"match\"].apply(lambda x : int(re.findall(r'\\d+', x)[0]))\n",
    "datas[\"match_day\"] = datas[\"match\"].apply(lambda x : int(re.findall(r'\\d+', x)[1]))\n",
    "datas = datas.drop(\"match\", axis=1)"
   ]
  },
  {
   "cell_type": "code",
   "execution_count": 113,
>>>>>>> 845e6a40b711c1ab0cc766f6e624441164218e64
   "metadata": {},
   "outputs": [
    {
     "data": {
      "text/html": [
       "<div>\n",
       "<style scoped>\n",
       "    .dataframe tbody tr th:only-of-type {\n",
       "        vertical-align: middle;\n",
       "    }\n",
       "\n",
       "    .dataframe tbody tr th {\n",
       "        vertical-align: top;\n",
       "    }\n",
       "\n",
       "    .dataframe thead th {\n",
       "        text-align: right;\n",
       "    }\n",
       "</style>\n",
       "<table border=\"1\" class=\"dataframe\">\n",
       "  <thead>\n",
       "    <tr style=\"text-align: right;\">\n",
       "      <th></th>\n",
       "      <th>y</th>\n",
       "      <th>year</th>\n",
       "      <th>stage</th>\n",
<<<<<<< HEAD
       "      <th>match</th>\n",
=======
>>>>>>> 845e6a40b711c1ab0cc766f6e624441164218e64
       "      <th>time</th>\n",
       "      <th>home</th>\n",
       "      <th>away</th>\n",
       "      <th>stadium</th>\n",
       "      <th>home_score</th>\n",
       "      <th>away_score</th>\n",
       "      <th>weather</th>\n",
       "      <th>...</th>\n",
       "      <th>MONTH</th>\n",
       "      <th>DAY</th>\n",
       "      <th>WEEK_日</th>\n",
       "      <th>WEEK_月</th>\n",
       "      <th>WEEK_木</th>\n",
       "      <th>WEEK_水</th>\n",
       "      <th>WEEK_火</th>\n",
       "      <th>WEEK_金</th>\n",
       "      <th>match_num</th>\n",
       "      <th>match_day</th>\n",
       "    </tr>\n",
       "  </thead>\n",
       "  <tbody>\n",
       "    <tr>\n",
       "      <th>0</th>\n",
       "      <td>18250</td>\n",
       "      <td>2012</td>\n",
       "      <td>１</td>\n",
<<<<<<< HEAD
       "      <td>第１節第１日</td>\n",
=======
>>>>>>> 845e6a40b711c1ab0cc766f6e624441164218e64
       "      <td>14:04</td>\n",
       "      <td>ベガルタ仙台</td>\n",
       "      <td>鹿島アントラーズ</td>\n",
       "      <td>ユアテックスタジアム仙台</td>\n",
       "      <td>1</td>\n",
       "      <td>0</td>\n",
       "      <td>雨</td>\n",
       "      <td>...</td>\n",
       "      <td>03</td>\n",
       "      <td>10</td>\n",
       "      <td>False</td>\n",
       "      <td>False</td>\n",
       "      <td>False</td>\n",
       "      <td>False</td>\n",
       "      <td>False</td>\n",
       "      <td>False</td>\n",
       "      <td>1</td>\n",
       "      <td>1</td>\n",
       "    </tr>\n",
       "  </tbody>\n",
       "</table>\n",
       "<p>1 rows × 26 columns</p>\n",
       "</div>"
      ],
      "text/plain": [
<<<<<<< HEAD
       "       y  year stage   match   time    home      away       stadium  \\\n",
       "0  18250  2012     １  第１節第１日  14:04  ベガルタ仙台  鹿島アントラーズ  ユアテックスタジアム仙台   \n",
=======
       "       y  year stage   time    home      away       stadium  home_score   \n",
       "0  18250  2012     １  14:04  ベガルタ仙台  鹿島アントラーズ  ユアテックスタジアム仙台           1  \\\n",
>>>>>>> 845e6a40b711c1ab0cc766f6e624441164218e64
       "\n",
       "   away_score weather  ...  MONTH DAY WEEK_日 WEEK_月 WEEK_木  WEEK_水 WEEK_火   \n",
       "0           0       雨  ...     03  10  False  False  False   False  False  \\\n",
       "\n",
       "  WEEK_金  match_num  match_day  \n",
       "0  False          1          1  \n",
       "\n",
       "[1 rows x 26 columns]"
      ]
     },
<<<<<<< HEAD
     "execution_count": 6,
=======
     "execution_count": 113,
>>>>>>> 845e6a40b711c1ab0cc766f6e624441164218e64
     "metadata": {},
     "output_type": "execute_result"
    }
   ],
   "source": [
    "datas.head(1)"
   ]
  },
  {
   "attachments": {},
   "cell_type": "markdown",
   "metadata": {},
   "source": [
    "## 説明変数"
   ]
  },
  {
   "cell_type": "code",
<<<<<<< HEAD
   "execution_count": null,
=======
   "execution_count": 114,
>>>>>>> 845e6a40b711c1ab0cc766f6e624441164218e64
   "metadata": {},
   "outputs": [],
   "source": [
    "# 説明変数を設定\n",
<<<<<<< HEAD
    "select_cols = [\"year\", \"stage\", \"MONTH\", \"DAY\", \"temperature\", \"capa\"]"
=======
    "select_cols = [\"year\", \"stage\", \"MONTH\", \"DAY\", \"temperature\", \"match_num\", \"match_day\", \"WEEK_日\", \"WEEK_月\", \"WEEK_木\", \"WEEK_水\", \"WEEK_火\", \"WEEK_金\"]"
>>>>>>> 845e6a40b711c1ab0cc766f6e624441164218e64
   ]
  },
  {
   "cell_type": "code",
<<<<<<< HEAD
   "execution_count": null,
=======
   "execution_count": 115,
>>>>>>> 845e6a40b711c1ab0cc766f6e624441164218e64
   "metadata": {},
   "outputs": [],
   "source": [
    "X = datas[select_cols]\n",
    "y = datas[\"y\"]"
   ]
  },
  {
   "cell_type": "code",
   "execution_count": 116,
   "metadata": {},
   "outputs": [
    {
     "data": {
      "text/html": [
       "<div>\n",
       "<style scoped>\n",
       "    .dataframe tbody tr th:only-of-type {\n",
       "        vertical-align: middle;\n",
       "    }\n",
       "\n",
       "    .dataframe tbody tr th {\n",
       "        vertical-align: top;\n",
       "    }\n",
       "\n",
       "    .dataframe thead th {\n",
       "        text-align: right;\n",
       "    }\n",
       "</style>\n",
       "<table border=\"1\" class=\"dataframe\">\n",
       "  <thead>\n",
       "    <tr style=\"text-align: right;\">\n",
       "      <th></th>\n",
       "      <th>year</th>\n",
       "      <th>stage</th>\n",
       "      <th>MONTH</th>\n",
       "      <th>DAY</th>\n",
       "      <th>temperature</th>\n",
       "      <th>match_num</th>\n",
       "      <th>match_day</th>\n",
       "      <th>WEEK_日</th>\n",
       "      <th>WEEK_月</th>\n",
       "      <th>WEEK_木</th>\n",
       "      <th>WEEK_水</th>\n",
       "      <th>WEEK_火</th>\n",
       "      <th>WEEK_金</th>\n",
       "    </tr>\n",
       "  </thead>\n",
       "  <tbody>\n",
       "    <tr>\n",
       "      <th>0</th>\n",
       "      <td>2012</td>\n",
       "      <td>１</td>\n",
       "      <td>03</td>\n",
       "      <td>10</td>\n",
       "      <td>3.8</td>\n",
       "      <td>1</td>\n",
       "      <td>1</td>\n",
       "      <td>False</td>\n",
       "      <td>False</td>\n",
       "      <td>False</td>\n",
       "      <td>False</td>\n",
       "      <td>False</td>\n",
       "      <td>False</td>\n",
       "    </tr>\n",
       "    <tr>\n",
       "      <th>1</th>\n",
       "      <td>2012</td>\n",
       "      <td>１</td>\n",
       "      <td>03</td>\n",
       "      <td>10</td>\n",
       "      <td>12.4</td>\n",
       "      <td>1</td>\n",
       "      <td>1</td>\n",
       "      <td>False</td>\n",
       "      <td>False</td>\n",
       "      <td>False</td>\n",
       "      <td>False</td>\n",
       "      <td>False</td>\n",
       "      <td>False</td>\n",
       "    </tr>\n",
       "    <tr>\n",
       "      <th>2</th>\n",
       "      <td>2012</td>\n",
       "      <td>１</td>\n",
       "      <td>03</td>\n",
       "      <td>10</td>\n",
       "      <td>11.3</td>\n",
       "      <td>1</td>\n",
       "      <td>1</td>\n",
       "      <td>False</td>\n",
       "      <td>False</td>\n",
       "      <td>False</td>\n",
       "      <td>False</td>\n",
       "      <td>False</td>\n",
       "      <td>False</td>\n",
       "    </tr>\n",
       "    <tr>\n",
       "      <th>3</th>\n",
       "      <td>2012</td>\n",
       "      <td>１</td>\n",
       "      <td>03</td>\n",
       "      <td>10</td>\n",
       "      <td>11.4</td>\n",
       "      <td>1</td>\n",
       "      <td>1</td>\n",
       "      <td>False</td>\n",
       "      <td>False</td>\n",
       "      <td>False</td>\n",
       "      <td>False</td>\n",
       "      <td>False</td>\n",
       "      <td>False</td>\n",
       "    </tr>\n",
       "    <tr>\n",
       "      <th>4</th>\n",
       "      <td>2012</td>\n",
       "      <td>１</td>\n",
       "      <td>03</td>\n",
       "      <td>10</td>\n",
       "      <td>22.5</td>\n",
       "      <td>1</td>\n",
       "      <td>1</td>\n",
       "      <td>False</td>\n",
       "      <td>False</td>\n",
       "      <td>False</td>\n",
       "      <td>False</td>\n",
       "      <td>False</td>\n",
       "      <td>False</td>\n",
       "    </tr>\n",
       "  </tbody>\n",
       "</table>\n",
       "</div>"
      ],
      "text/plain": [
       "   year stage MONTH DAY  temperature  match_num  match_day  WEEK_日  WEEK_月   \n",
       "0  2012     １    03  10          3.8          1          1   False   False  \\\n",
       "1  2012     １    03  10         12.4          1          1   False   False   \n",
       "2  2012     １    03  10         11.3          1          1   False   False   \n",
       "3  2012     １    03  10         11.4          1          1   False   False   \n",
       "4  2012     １    03  10         22.5          1          1   False   False   \n",
       "\n",
       "   WEEK_木  WEEK_水  WEEK_火  WEEK_金  \n",
       "0   False   False   False   False  \n",
       "1   False   False   False   False  \n",
       "2   False   False   False   False  \n",
       "3   False   False   False   False  \n",
       "4   False   False   False   False  "
      ]
     },
     "execution_count": 116,
     "metadata": {},
     "output_type": "execute_result"
    }
   ],
   "source": [
    "X.head()"
   ]
  },
  {
   "attachments": {},
   "cell_type": "markdown",
   "metadata": {},
   "source": [
    "## テスト用データにのみ教師データがあるのでテスト用データを訓練データとテストデータに分ける"
   ]
  },
  {
   "cell_type": "code",
<<<<<<< HEAD
   "execution_count": null,
=======
   "execution_count": 117,
>>>>>>> 845e6a40b711c1ab0cc766f6e624441164218e64
   "metadata": {},
   "outputs": [],
   "source": [
    "X_train, X_test, y_train, y_test = train_test_split(X, y, random_state=42)"
   ]
  },
  {
   "attachments": {},
   "cell_type": "markdown",
   "metadata": {},
   "source": [
    "## 学習とスコアの表示"
   ]
  },
  {
   "attachments": {},
   "cell_type": "markdown",
   "metadata": {},
   "source": [
    "### Ridge回帰"
   ]
  },
  {
   "cell_type": "code",
<<<<<<< HEAD
   "execution_count": null,
   "metadata": {},
   "outputs": [],
=======
   "execution_count": 118,
   "metadata": {},
   "outputs": [
    {
     "name": "stdout",
     "output_type": "stream",
     "text": [
      "Training set score: 0.46\n",
      "Test set score: 0.47\n"
     ]
    }
   ],
>>>>>>> 845e6a40b711c1ab0cc766f6e624441164218e64
   "source": [
    "ridge = Ridge().fit(X_train, y_train)\n",
    "print(\"Training set score: {:.2f}\".format(ridge.score(X_train, y_train)))\n",
    "print(\"Test set score: {:.2f}\".format(ridge.score(X_test, y_test)))"
   ]
  },
  {
   "cell_type": "code",
<<<<<<< HEAD
   "execution_count": null,
   "metadata": {},
   "outputs": [],
=======
   "execution_count": 119,
   "metadata": {},
   "outputs": [
    {
     "name": "stdout",
     "output_type": "stream",
     "text": [
      "Training set score: 0.46\n",
      "Test set score: 0.47\n"
     ]
    }
   ],
>>>>>>> 845e6a40b711c1ab0cc766f6e624441164218e64
   "source": [
    "ridge10 = Ridge(alpha=10).fit(X_train, y_train)\n",
    "print(\"Training set score: {:.2f}\".format(ridge10.score(X_train, y_train)))\n",
    "print(\"Test set score: {:.2f}\".format(ridge10.score(X_test, y_test)))"
   ]
  },
  {
   "cell_type": "code",
<<<<<<< HEAD
   "execution_count": null,
   "metadata": {},
   "outputs": [],
=======
   "execution_count": 120,
   "metadata": {},
   "outputs": [
    {
     "name": "stdout",
     "output_type": "stream",
     "text": [
      "Training set score: 0.46\n",
      "Test set score: 0.47\n"
     ]
    }
   ],
>>>>>>> 845e6a40b711c1ab0cc766f6e624441164218e64
   "source": [
    "ridge01 = Ridge(alpha=0.1).fit(X_train, y_train)\n",
    "print(\"Training set score: {:.2f}\".format(ridge01.score(X_train, y_train)))\n",
    "print(\"Test set score: {:.2f}\".format(ridge01.score(X_test, y_test)))"
   ]
  },
  {
   "attachments": {},
   "cell_type": "markdown",
   "metadata": {},
   "source": [
    "### 線形回帰"
   ]
  },
  {
   "cell_type": "code",
<<<<<<< HEAD
   "execution_count": null,
   "metadata": {},
   "outputs": [],
=======
   "execution_count": 121,
   "metadata": {},
   "outputs": [
    {
     "name": "stdout",
     "output_type": "stream",
     "text": [
      "Training set score: 0.46\n",
      "Test set score: 0.47\n"
     ]
    }
   ],
>>>>>>> 845e6a40b711c1ab0cc766f6e624441164218e64
   "source": [
    "lr = LinearRegression().fit(X_train, y_train)\n",
    "print(\"Training set score: {:.2f}\".format(lr.score(X_train, y_train)))\n",
    "print(\"Test set score: {:.2f}\".format(lr.score(X_test, y_test)))"
   ]
  }
 ],
 "metadata": {
  "kernelspec": {
   "display_name": "Python 3",
   "language": "python",
   "name": "python3"
  },
  "language_info": {
   "codemirror_mode": {
    "name": "ipython",
    "version": 3
   },
   "file_extension": ".py",
   "mimetype": "text/x-python",
   "name": "python",
   "nbconvert_exporter": "python",
   "pygments_lexer": "ipython3",
   "version": "3.11.1"
  }
 },
 "nbformat": 4,
 "nbformat_minor": 2
}
