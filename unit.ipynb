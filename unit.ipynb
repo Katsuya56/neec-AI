{
 "cells": [
  {
   "cell_type": "markdown",
   "metadata": {},
   "source": [
    "# 準備"
   ]
  },
  {
   "attachments": {},
   "cell_type": "markdown",
   "metadata": {},
   "source": [
    "## import"
   ]
  },
  {
   "cell_type": "code",
   "execution_count": 22,
   "metadata": {},
   "outputs": [],
   "source": [
    "from sklearn.linear_model import LinearRegression\n",
    "from sklearn.linear_model import Lasso\n",
    "import matplotlib.pyplot as plt\n",
    "from sklearn.linear_model import Ridge\n",
    "from sklearn.model_selection import train_test_split\n",
    "import re\n",
    "import pandas as pd"
   ]
  },
  {
   "attachments": {},
   "cell_type": "markdown",
   "metadata": {},
   "source": [
    "## データの読み込み"
   ]
  },
  {
   "cell_type": "markdown",
   "metadata": {},
   "source": [
    "### 削除するカラム"
   ]
  },
  {
   "cell_type": "code",
   "execution_count": 23,
   "metadata": {},
   "outputs": [],
   "source": [
    "drop_list = [\n",
    "    \"tv\",\n",
    "    \"referee\",\n",
    "    \"time\",\n",
    "    \"home\",\n",
    "    \"away\",\n",
    "    \"home_01\", \"home_02\", \"home_03\", \"home_04\", \"home_05\", \"home_06\", \"home_07\", \"home_08\", \"home_09\", \"home_10\", \"home_11\",\n",
    "    \"away_01\", \"away_02\", \"away_03\", \"away_04\", \"away_05\", \"away_06\", \"away_07\", \"away_08\", \"away_09\", \"away_10\", \"away_11\",\n",
    "    \"address\",\n",
    "    \"humidity\",\n",
    "]"
   ]
  },
  {
   "cell_type": "markdown",
   "metadata": {},
   "source": [
    "### データ"
   ]
  },
  {
   "cell_type": "code",
   "execution_count": 24,
   "metadata": {},
   "outputs": [
    {
     "data": {
      "text/html": [
       "<div>\n",
       "<style scoped>\n",
       "    .dataframe tbody tr th:only-of-type {\n",
       "        vertical-align: middle;\n",
       "    }\n",
       "\n",
       "    .dataframe tbody tr th {\n",
       "        vertical-align: top;\n",
       "    }\n",
       "\n",
       "    .dataframe thead th {\n",
       "        text-align: right;\n",
       "    }\n",
       "</style>\n",
       "<table border=\"1\" class=\"dataframe\">\n",
       "  <thead>\n",
       "    <tr style=\"text-align: right;\">\n",
       "      <th></th>\n",
       "      <th>id</th>\n",
       "      <th>y</th>\n",
       "      <th>year</th>\n",
       "      <th>stage</th>\n",
       "      <th>match</th>\n",
       "      <th>gameday</th>\n",
       "      <th>stadium</th>\n",
       "      <th>home_score</th>\n",
       "      <th>away_score</th>\n",
       "      <th>weather</th>\n",
       "      <th>temperature</th>\n",
       "      <th>home_team</th>\n",
       "      <th>away_team</th>\n",
       "      <th>capa</th>\n",
       "    </tr>\n",
       "  </thead>\n",
       "  <tbody>\n",
       "    <tr>\n",
       "      <th>1567</th>\n",
       "      <td>15699</td>\n",
       "      <td>0</td>\n",
       "      <td>2014</td>\n",
       "      <td>Ｊ１</td>\n",
       "      <td>第４節第１日</td>\n",
       "      <td>03/23(日)</td>\n",
       "      <td>埼玉スタジアム２００２</td>\n",
       "      <td>1</td>\n",
       "      <td>1</td>\n",
       "      <td>晴</td>\n",
       "      <td>16.2</td>\n",
       "      <td>浦和レッズ</td>\n",
       "      <td>清水エスパルス</td>\n",
       "      <td>63700</td>\n",
       "    </tr>\n",
       "    <tr>\n",
       "      <th>1313</th>\n",
       "      <td>15381</td>\n",
       "      <td>1104</td>\n",
       "      <td>2013</td>\n",
       "      <td>Ｊ２</td>\n",
       "      <td>第２２節第１日</td>\n",
       "      <td>07/03(水)</td>\n",
       "      <td>ニンジニアスタジアム</td>\n",
       "      <td>1</td>\n",
       "      <td>1</td>\n",
       "      <td>雨</td>\n",
       "      <td>26.9</td>\n",
       "      <td>愛媛ＦＣ</td>\n",
       "      <td>ロアッソ熊本</td>\n",
       "      <td>15576</td>\n",
       "    </tr>\n",
       "    <tr>\n",
       "      <th>506</th>\n",
       "      <td>14500</td>\n",
       "      <td>1333</td>\n",
       "      <td>2012</td>\n",
       "      <td>Ｊ２</td>\n",
       "      <td>第１９節第１日</td>\n",
       "      <td>06/13(水)</td>\n",
       "      <td>正田醤油スタジアム群馬</td>\n",
       "      <td>0</td>\n",
       "      <td>0</td>\n",
       "      <td>曇</td>\n",
       "      <td>19.4</td>\n",
       "      <td>ザスパ草津</td>\n",
       "      <td>ロアッソ熊本</td>\n",
       "      <td>15135</td>\n",
       "    </tr>\n",
       "    <tr>\n",
       "      <th>696</th>\n",
       "      <td>14690</td>\n",
       "      <td>1363</td>\n",
       "      <td>2012</td>\n",
       "      <td>Ｊ２</td>\n",
       "      <td>第３６節第１日</td>\n",
       "      <td>09/30(日)</td>\n",
       "      <td>とりぎんバードスタジアム</td>\n",
       "      <td>2</td>\n",
       "      <td>0</td>\n",
       "      <td>雨</td>\n",
       "      <td>20.0</td>\n",
       "      <td>ガイナーレ鳥取</td>\n",
       "      <td>ザスパ草津</td>\n",
       "      <td>16033</td>\n",
       "    </tr>\n",
       "    <tr>\n",
       "      <th>406</th>\n",
       "      <td>14400</td>\n",
       "      <td>1447</td>\n",
       "      <td>2012</td>\n",
       "      <td>Ｊ２</td>\n",
       "      <td>第１０節第１日</td>\n",
       "      <td>04/27(金)</td>\n",
       "      <td>正田醤油スタジアム群馬</td>\n",
       "      <td>0</td>\n",
       "      <td>2</td>\n",
       "      <td>曇</td>\n",
       "      <td>16.9</td>\n",
       "      <td>ザスパ草津</td>\n",
       "      <td>ギラヴァンツ北九州</td>\n",
       "      <td>15135</td>\n",
       "    </tr>\n",
       "  </tbody>\n",
       "</table>\n",
       "</div>"
      ],
      "text/plain": [
       "         id     y  year stage    match   gameday       stadium  home_score  \\\n",
       "1567  15699     0  2014    Ｊ１   第４節第１日  03/23(日)   埼玉スタジアム２００２           1   \n",
       "1313  15381  1104  2013    Ｊ２  第２２節第１日  07/03(水)    ニンジニアスタジアム           1   \n",
       "506   14500  1333  2012    Ｊ２  第１９節第１日  06/13(水)   正田醤油スタジアム群馬           0   \n",
       "696   14690  1363  2012    Ｊ２  第３６節第１日  09/30(日)  とりぎんバードスタジアム           2   \n",
       "406   14400  1447  2012    Ｊ２  第１０節第１日  04/27(金)   正田醤油スタジアム群馬           0   \n",
       "\n",
       "      away_score weather  temperature home_team  away_team   capa  \n",
       "1567           1       晴         16.2     浦和レッズ    清水エスパルス  63700  \n",
       "1313           1       雨         26.9      愛媛ＦＣ     ロアッソ熊本  15576  \n",
       "506            0       曇         19.4     ザスパ草津     ロアッソ熊本  15135  \n",
       "696            0       雨         20.0   ガイナーレ鳥取      ザスパ草津  16033  \n",
       "406            2       曇         16.9     ザスパ草津  ギラヴァンツ北九州  15135  "
      ]
     },
     "execution_count": 24,
     "metadata": {},
     "output_type": "execute_result"
    }
   ],
   "source": [
    "datas = pd.read_csv(\"./input/train_all.csv\")\n",
    "\n",
    "\n",
    "datas = datas.drop(drop_list, axis=1)\n",
    "\n",
    "datas = datas.sort_values(by=\"y\")\n",
    "\n",
    "datas.head(5)\n"
   ]
  },
  {
   "cell_type": "markdown",
   "metadata": {},
   "source": [
    "## 外れ値の除外"
   ]
  },
  {
   "cell_type": "code",
   "execution_count": 25,
   "metadata": {},
   "outputs": [],
   "source": [
    "datas = datas[datas[\"id\"] != 15127]\t# yの値が大きく外れたデータ\n",
    "datas = datas[datas[\"id\"] != 15699]\t# yの値が0のデータ\n",
    "datas = datas[datas[\"id\"] != 14071]\t# 木の中でyの値が外れたデータ\n",
    "datas = datas[datas[\"id\"] != 14911]\t# 金の中でyの値が外れたデータ"
   ]
  },
  {
   "attachments": {},
   "cell_type": "markdown",
   "metadata": {},
   "source": [
    "## 前処理"
   ]
  },
  {
   "cell_type": "markdown",
   "metadata": {},
   "source": [
    "### 日付関係"
   ]
  },
  {
   "cell_type": "code",
   "execution_count": 26,
   "metadata": {},
   "outputs": [],
   "source": [
    "datas[\"MONTH\"] = datas[\"gameday\"].apply(lambda x : x[0:2])\n",
    "datas[\"DAY\"] = datas[\"gameday\"].apply(lambda x : x[3:5])\n",
    "datas[\"WEEK\"] = datas[\"gameday\"].apply(lambda x : x[x.find(\"(\")+1:x.find(\"(\")+2])\n",
    "datas = pd.get_dummies(datas, columns=[\"WEEK\"], drop_first=True)\n",
    "datas = datas.drop(\"gameday\", axis=1)"
   ]
  },
  {
   "cell_type": "markdown",
   "metadata": {},
   "source": [
    "### 試合？関係"
   ]
  },
  {
   "cell_type": "code",
   "execution_count": 27,
   "metadata": {},
   "outputs": [],
   "source": [
    "datas[\"stage\"] = datas[\"stage\"].apply(lambda x : x[1])\n",
    "datas[\"match_num\"] = datas[\"match\"].apply(lambda x : int(re.findall(r'\\d+', x)[0]))\n",
    "datas[\"match_day\"] = datas[\"match\"].apply(lambda x : int(re.findall(r'\\d+', x)[1]))\n",
    "datas = datas.drop(\"match\", axis=1)"
   ]
  },
  {
   "cell_type": "markdown",
   "metadata": {},
   "source": [
    "### チーム関係"
   ]
  },
  {
   "cell_type": "code",
   "execution_count": 28,
   "metadata": {},
   "outputs": [],
   "source": [
    "datas = pd.get_dummies(datas, columns=[\"home_team\"], drop_first=True)\n",
    "datas = pd.get_dummies(datas, columns=[\"away_team\"], drop_first=True)"
   ]
  },
  {
   "cell_type": "markdown",
   "metadata": {},
   "source": [
    "### スタジアム関係"
   ]
  },
  {
   "cell_type": "code",
   "execution_count": 29,
   "metadata": {},
   "outputs": [],
   "source": [
    "datas = pd.get_dummies(datas, columns=[\"stadium\"], drop_first=True)\n"
   ]
  },
  {
   "attachments": {},
   "cell_type": "markdown",
   "metadata": {},
   "source": [
    "## 説明変数"
   ]
  },
  {
   "cell_type": "code",
   "execution_count": 30,
   "metadata": {},
   "outputs": [],
   "source": [
    "# 説明変数を設定\n",
    "not_need_cols = [\n",
    "\t\"id\",\n",
    "\t\"weather\",\n",
    "\t\"y\",\n",
    "    \"MONTH\",\n",
    "    \"DAY\",\n",
    "]"
   ]
  },
  {
   "cell_type": "code",
   "execution_count": 31,
   "metadata": {},
   "outputs": [],
   "source": [
    "X = datas.drop(not_need_cols, axis=1)\n",
    "y = datas[\"y\"]"
   ]
  },
  {
   "cell_type": "code",
   "execution_count": 32,
   "metadata": {},
   "outputs": [
    {
     "data": {
      "text/html": [
       "<div>\n",
       "<style scoped>\n",
       "    .dataframe tbody tr th:only-of-type {\n",
       "        vertical-align: middle;\n",
       "    }\n",
       "\n",
       "    .dataframe tbody tr th {\n",
       "        vertical-align: top;\n",
       "    }\n",
       "\n",
       "    .dataframe thead th {\n",
       "        text-align: right;\n",
       "    }\n",
       "</style>\n",
       "<table border=\"1\" class=\"dataframe\">\n",
       "  <thead>\n",
       "    <tr style=\"text-align: right;\">\n",
       "      <th></th>\n",
       "      <th>year</th>\n",
       "      <th>stage</th>\n",
       "      <th>home_score</th>\n",
       "      <th>away_score</th>\n",
       "      <th>temperature</th>\n",
       "      <th>capa</th>\n",
       "      <th>WEEK_日</th>\n",
       "      <th>WEEK_月</th>\n",
       "      <th>WEEK_木</th>\n",
       "      <th>WEEK_水</th>\n",
       "      <th>...</th>\n",
       "      <th>stadium_長崎市総合運動公園かきどまり陸上競技場</th>\n",
       "      <th>stadium_長崎県立総合運動公園陸上競技場</th>\n",
       "      <th>stadium_香川県立丸亀競技場</th>\n",
       "      <th>stadium_駒沢オリンピック公園総合運動場陸上競技場</th>\n",
       "      <th>stadium_鳴門・大塚スポーツパーク　ポカリスエットスタジアム</th>\n",
       "      <th>stadium_鹿児島県立鴨池陸上競技場</th>\n",
       "      <th>stadium_ＩＡＩスタジアム日本平</th>\n",
       "      <th>stadium_ＮＡＣＫ５スタジアム大宮</th>\n",
       "      <th>stadium_ＮＤソフトスタジアム山形</th>\n",
       "      <th>stadium_Ｓｈｏｎａｎ　ＢＭＷスタジアム平塚</th>\n",
       "    </tr>\n",
       "  </thead>\n",
       "  <tbody>\n",
       "    <tr>\n",
       "      <th>1313</th>\n",
       "      <td>2013</td>\n",
       "      <td>２</td>\n",
       "      <td>1</td>\n",
       "      <td>1</td>\n",
       "      <td>26.9</td>\n",
       "      <td>15576</td>\n",
       "      <td>False</td>\n",
       "      <td>False</td>\n",
       "      <td>False</td>\n",
       "      <td>True</td>\n",
       "      <td>...</td>\n",
       "      <td>False</td>\n",
       "      <td>False</td>\n",
       "      <td>False</td>\n",
       "      <td>False</td>\n",
       "      <td>False</td>\n",
       "      <td>False</td>\n",
       "      <td>False</td>\n",
       "      <td>False</td>\n",
       "      <td>False</td>\n",
       "      <td>False</td>\n",
       "    </tr>\n",
       "    <tr>\n",
       "      <th>506</th>\n",
       "      <td>2012</td>\n",
       "      <td>２</td>\n",
       "      <td>0</td>\n",
       "      <td>0</td>\n",
       "      <td>19.4</td>\n",
       "      <td>15135</td>\n",
       "      <td>False</td>\n",
       "      <td>False</td>\n",
       "      <td>False</td>\n",
       "      <td>True</td>\n",
       "      <td>...</td>\n",
       "      <td>False</td>\n",
       "      <td>False</td>\n",
       "      <td>False</td>\n",
       "      <td>False</td>\n",
       "      <td>False</td>\n",
       "      <td>False</td>\n",
       "      <td>False</td>\n",
       "      <td>False</td>\n",
       "      <td>False</td>\n",
       "      <td>False</td>\n",
       "    </tr>\n",
       "    <tr>\n",
       "      <th>696</th>\n",
       "      <td>2012</td>\n",
       "      <td>２</td>\n",
       "      <td>2</td>\n",
       "      <td>0</td>\n",
       "      <td>20.0</td>\n",
       "      <td>16033</td>\n",
       "      <td>True</td>\n",
       "      <td>False</td>\n",
       "      <td>False</td>\n",
       "      <td>False</td>\n",
       "      <td>...</td>\n",
       "      <td>False</td>\n",
       "      <td>False</td>\n",
       "      <td>False</td>\n",
       "      <td>False</td>\n",
       "      <td>False</td>\n",
       "      <td>False</td>\n",
       "      <td>False</td>\n",
       "      <td>False</td>\n",
       "      <td>False</td>\n",
       "      <td>False</td>\n",
       "    </tr>\n",
       "    <tr>\n",
       "      <th>406</th>\n",
       "      <td>2012</td>\n",
       "      <td>２</td>\n",
       "      <td>0</td>\n",
       "      <td>2</td>\n",
       "      <td>16.9</td>\n",
       "      <td>15135</td>\n",
       "      <td>False</td>\n",
       "      <td>False</td>\n",
       "      <td>False</td>\n",
       "      <td>False</td>\n",
       "      <td>...</td>\n",
       "      <td>False</td>\n",
       "      <td>False</td>\n",
       "      <td>False</td>\n",
       "      <td>False</td>\n",
       "      <td>False</td>\n",
       "      <td>False</td>\n",
       "      <td>False</td>\n",
       "      <td>False</td>\n",
       "      <td>False</td>\n",
       "      <td>False</td>\n",
       "    </tr>\n",
       "    <tr>\n",
       "      <th>1748</th>\n",
       "      <td>2014</td>\n",
       "      <td>２</td>\n",
       "      <td>0</td>\n",
       "      <td>1</td>\n",
       "      <td>15.5</td>\n",
       "      <td>22338</td>\n",
       "      <td>False</td>\n",
       "      <td>False</td>\n",
       "      <td>False</td>\n",
       "      <td>False</td>\n",
       "      <td>...</td>\n",
       "      <td>False</td>\n",
       "      <td>False</td>\n",
       "      <td>True</td>\n",
       "      <td>False</td>\n",
       "      <td>False</td>\n",
       "      <td>False</td>\n",
       "      <td>False</td>\n",
       "      <td>False</td>\n",
       "      <td>False</td>\n",
       "      <td>False</td>\n",
       "    </tr>\n",
       "  </tbody>\n",
       "</table>\n",
       "<p>5 rows × 156 columns</p>\n",
       "</div>"
      ],
      "text/plain": [
       "      year stage  home_score  away_score  temperature   capa  WEEK_日  WEEK_月  \\\n",
       "1313  2013     ２           1           1         26.9  15576   False   False   \n",
       "506   2012     ２           0           0         19.4  15135   False   False   \n",
       "696   2012     ２           2           0         20.0  16033    True   False   \n",
       "406   2012     ２           0           2         16.9  15135   False   False   \n",
       "1748  2014     ２           0           1         15.5  22338   False   False   \n",
       "\n",
       "      WEEK_木  WEEK_水  ...  stadium_長崎市総合運動公園かきどまり陸上競技場  \\\n",
       "1313   False    True  ...                        False   \n",
       "506    False    True  ...                        False   \n",
       "696    False   False  ...                        False   \n",
       "406    False   False  ...                        False   \n",
       "1748   False   False  ...                        False   \n",
       "\n",
       "      stadium_長崎県立総合運動公園陸上競技場  stadium_香川県立丸亀競技場  \\\n",
       "1313                    False              False   \n",
       "506                     False              False   \n",
       "696                     False              False   \n",
       "406                     False              False   \n",
       "1748                    False               True   \n",
       "\n",
       "      stadium_駒沢オリンピック公園総合運動場陸上競技場  stadium_鳴門・大塚スポーツパーク　ポカリスエットスタジアム  \\\n",
       "1313                         False                              False   \n",
       "506                          False                              False   \n",
       "696                          False                              False   \n",
       "406                          False                              False   \n",
       "1748                         False                              False   \n",
       "\n",
       "      stadium_鹿児島県立鴨池陸上競技場   stadium_ＩＡＩスタジアム日本平  stadium_ＮＡＣＫ５スタジアム大宮  \\\n",
       "1313                  False                False                 False   \n",
       "506                   False                False                 False   \n",
       "696                   False                False                 False   \n",
       "406                   False                False                 False   \n",
       "1748                  False                False                 False   \n",
       "\n",
       "      stadium_ＮＤソフトスタジアム山形  stadium_Ｓｈｏｎａｎ　ＢＭＷスタジアム平塚  \n",
       "1313                 False                      False  \n",
       "506                  False                      False  \n",
       "696                  False                      False  \n",
       "406                  False                      False  \n",
       "1748                 False                      False  \n",
       "\n",
       "[5 rows x 156 columns]"
      ]
     },
     "execution_count": 32,
     "metadata": {},
     "output_type": "execute_result"
    }
   ],
   "source": [
    "X.head()"
   ]
  },
  {
   "cell_type": "markdown",
   "metadata": {},
   "source": [
    "# 訓練・テスト"
   ]
  },
  {
   "attachments": {},
   "cell_type": "markdown",
   "metadata": {},
   "source": [
    "## 訓練データとテストデータに分ける"
   ]
  },
  {
   "cell_type": "code",
   "execution_count": 33,
   "metadata": {},
   "outputs": [],
   "source": [
    "X_train, X_test, y_train, y_test = train_test_split(X, y, random_state=42)"
   ]
  },
  {
   "attachments": {},
   "cell_type": "markdown",
   "metadata": {},
   "source": [
    "## 学習とスコアの表示"
   ]
  },
  {
   "attachments": {},
   "cell_type": "markdown",
   "metadata": {},
   "source": [
    "### 通常最小二乗法"
   ]
  },
  {
   "attachments": {},
   "cell_type": "markdown",
   "metadata": {},
   "source": [
    "### Ridge回帰"
   ]
  },
  {
   "cell_type": "code",
   "execution_count": 34,
   "metadata": {},
   "outputs": [
    {
     "name": "stdout",
     "output_type": "stream",
     "text": [
      "Training set score: 0.75\n",
      "Test set score: 0.77\n"
     ]
    }
   ],
   "source": [
    "ridge100 = Ridge(alpha=100).fit(X_train, y_train)\n",
    "print(\"Training set score: {:.2f}\".format(ridge100.score(X_train, y_train)))\n",
    "print(\"Test set score: {:.2f}\".format(ridge100.score(X_test, y_test)))"
   ]
  },
  {
   "cell_type": "code",
   "execution_count": 35,
   "metadata": {},
   "outputs": [
    {
     "name": "stdout",
     "output_type": "stream",
     "text": [
      "Training set score: 0.85\n",
      "Test set score: 0.85\n"
     ]
    }
   ],
   "source": [
    "ridge10 = Ridge(alpha=10).fit(X_train, y_train)\n",
    "print(\"Training set score: {:.2f}\".format(ridge10.score(X_train, y_train)))\n",
    "print(\"Test set score: {:.2f}\".format(ridge10.score(X_test, y_test)))"
   ]
  },
  {
   "cell_type": "code",
   "execution_count": 36,
   "metadata": {},
   "outputs": [
    {
     "name": "stdout",
     "output_type": "stream",
     "text": [
      "Training set score: 0.86\n",
      "Test set score: 0.85\n"
     ]
    }
   ],
   "source": [
    "ridge1 = Ridge().fit(X_train, y_train)\n",
    "print(\"Training set score: {:.2f}\".format(ridge1.score(X_train, y_train)))\n",
    "print(\"Test set score: {:.2f}\".format(ridge1.score(X_test, y_test)))"
   ]
  },
  {
   "cell_type": "code",
   "execution_count": 37,
   "metadata": {},
   "outputs": [
    {
     "name": "stdout",
     "output_type": "stream",
     "text": [
      "Training set score: 0.87\n",
      "Test set score: 0.85\n"
     ]
    }
   ],
   "source": [
    "ridge01 = Ridge(alpha=0.1).fit(X_train, y_train)\n",
    "print(\"Training set score: {:.2f}\".format(ridge01.score(X_train, y_train)))\n",
    "print(\"Test set score: {:.2f}\".format(ridge01.score(X_test, y_test)))"
   ]
  },
  {
   "cell_type": "code",
   "execution_count": 38,
   "metadata": {},
   "outputs": [
    {
     "name": "stdout",
     "output_type": "stream",
     "text": [
      "Training set score: 0.87\n",
      "Test set score: 0.84\n"
     ]
    }
   ],
   "source": [
    "ridge001 = Ridge(alpha=0.01).fit(X_train, y_train)\n",
    "print(\"Training set score: {:.2f}\".format(ridge001.score(X_train, y_train)))\n",
    "print(\"Test set score: {:.2f}\".format(ridge001.score(X_test, y_test)))"
   ]
  },
  {
   "cell_type": "code",
   "execution_count": 39,
   "metadata": {},
   "outputs": [
    {
     "name": "stdout",
     "output_type": "stream",
     "text": [
      "Training set score: 0.87\n",
      "Test set score: 0.84\n"
     ]
    }
   ],
   "source": [
    "lr = LinearRegression().fit(X_train, y_train)\n",
    "print(\"Training set score: {:.2f}\".format(lr.score(X_train, y_train)))\n",
    "print(\"Test set score: {:.2f}\".format(lr.score(X_test, y_test)))"
   ]
  },
  {
   "cell_type": "markdown",
   "metadata": {},
   "source": [
    "### Lasso"
   ]
  },
  {
   "cell_type": "code",
   "execution_count": 40,
   "metadata": {},
   "outputs": [
    {
     "name": "stdout",
     "output_type": "stream",
     "text": [
      "Training set score: 0.87\n",
      "Test set score: 0.85\n"
     ]
    },
    {
     "name": "stderr",
     "output_type": "stream",
     "text": [
      "c:\\Users\\inkat\\AppData\\Local\\Programs\\Python\\Python311\\Lib\\site-packages\\sklearn\\linear_model\\_coordinate_descent.py:628: ConvergenceWarning: Objective did not converge. You might want to increase the number of iterations, check the scale of the features or consider increasing regularisation. Duality gap: 6.512e+09, tolerance: 9.201e+06\n",
      "  model = cd_fast.enet_coordinate_descent(\n"
     ]
    }
   ],
   "source": [
    "lasso1 = Lasso().fit(X_train, y_train)\n",
    "print(\"Training set score: {:.2f}\".format(lasso1.score(X_train, y_train)))\n",
    "print(\"Test set score: {:.2f}\".format(lasso1.score(X_test, y_test)))"
   ]
  },
  {
   "cell_type": "code",
   "execution_count": 41,
   "metadata": {},
   "outputs": [
    {
     "name": "stdout",
     "output_type": "stream",
     "text": [
      "Training set score: 0.87\n",
      "Test set score: 0.85\n"
     ]
    },
    {
     "name": "stderr",
     "output_type": "stream",
     "text": [
      "c:\\Users\\inkat\\AppData\\Local\\Programs\\Python\\Python311\\Lib\\site-packages\\sklearn\\linear_model\\_coordinate_descent.py:628: ConvergenceWarning: Objective did not converge. You might want to increase the number of iterations, check the scale of the features or consider increasing regularisation. Duality gap: 6.172e+09, tolerance: 9.201e+06\n",
      "  model = cd_fast.enet_coordinate_descent(\n"
     ]
    }
   ],
   "source": [
    "lasso001 = Lasso(alpha=0.01, max_iter=100000).fit(X_train, y_train)\n",
    "print(\"Training set score: {:.2f}\".format(lasso1.score(X_train, y_train)))\n",
    "print(\"Test set score: {:.2f}\".format(lasso1.score(X_test, y_test)))"
   ]
  },
  {
   "cell_type": "code",
   "execution_count": 42,
   "metadata": {},
   "outputs": [
    {
     "name": "stdout",
     "output_type": "stream",
     "text": [
      "Training set score: 0.87\n",
      "Test set score: 0.85\n"
     ]
    },
    {
     "name": "stderr",
     "output_type": "stream",
     "text": [
      "c:\\Users\\inkat\\AppData\\Local\\Programs\\Python\\Python311\\Lib\\site-packages\\sklearn\\linear_model\\_coordinate_descent.py:628: ConvergenceWarning: Objective did not converge. You might want to increase the number of iterations, check the scale of the features or consider increasing regularisation. Duality gap: 6.176e+09, tolerance: 9.201e+06\n",
      "  model = cd_fast.enet_coordinate_descent(\n"
     ]
    }
   ],
   "source": [
    "lasso00001 = Lasso(alpha=0.0001, max_iter=100000).fit(X_train, y_train)\n",
    "print(\"Training set score: {:.2f}\".format(lasso1.score(X_train, y_train)))\n",
    "print(\"Test set score: {:.2f}\".format(lasso1.score(X_test, y_test)))"
   ]
  },
  {
   "cell_type": "code",
   "execution_count": null,
   "metadata": {},
   "outputs": [],
   "source": []
  }
 ],
 "metadata": {
  "kernelspec": {
   "display_name": "Python 3",
   "language": "python",
   "name": "python3"
  },
  "language_info": {
   "codemirror_mode": {
    "name": "ipython",
    "version": 3
   },
   "file_extension": ".py",
   "mimetype": "text/x-python",
   "name": "python",
   "nbconvert_exporter": "python",
   "pygments_lexer": "ipython3",
   "version": "3.11.1"
  }
 },
 "nbformat": 4,
 "nbformat_minor": 2
}
