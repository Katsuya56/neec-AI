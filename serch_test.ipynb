{
 "cells": [
  {
   "cell_type": "markdown",
   "metadata": {},
   "source": [
    "# 事前準備"
   ]
  },
  {
   "cell_type": "code",
   "execution_count": 93,
   "metadata": {},
   "outputs": [
    {
     "name": "stdout",
     "output_type": "stream",
     "text": [
      "Requirement already satisfied: japanize-matplotlib in c:\\users\\inkat\\appdata\\local\\programs\\python\\python311\\lib\\site-packages (1.1.3)\n",
      "Requirement already satisfied: matplotlib in c:\\users\\inkat\\appdata\\local\\programs\\python\\python311\\lib\\site-packages (from japanize-matplotlib) (3.7.1)\n",
      "Requirement already satisfied: contourpy>=1.0.1 in c:\\users\\inkat\\appdata\\local\\programs\\python\\python311\\lib\\site-packages (from matplotlib->japanize-matplotlib) (1.0.7)\n",
      "Requirement already satisfied: cycler>=0.10 in c:\\users\\inkat\\appdata\\local\\programs\\python\\python311\\lib\\site-packages (from matplotlib->japanize-matplotlib) (0.11.0)\n",
      "Requirement already satisfied: fonttools>=4.22.0 in c:\\users\\inkat\\appdata\\local\\programs\\python\\python311\\lib\\site-packages (from matplotlib->japanize-matplotlib) (4.39.4)\n",
      "Requirement already satisfied: kiwisolver>=1.0.1 in c:\\users\\inkat\\appdata\\local\\programs\\python\\python311\\lib\\site-packages (from matplotlib->japanize-matplotlib) (1.4.4)\n",
      "Requirement already satisfied: numpy>=1.20 in c:\\users\\inkat\\appdata\\local\\programs\\python\\python311\\lib\\site-packages (from matplotlib->japanize-matplotlib) (1.24.2)\n",
      "Requirement already satisfied: packaging>=20.0 in c:\\users\\inkat\\appdata\\local\\programs\\python\\python311\\lib\\site-packages (from matplotlib->japanize-matplotlib) (23.0)\n",
      "Requirement already satisfied: pillow>=6.2.0 in c:\\users\\inkat\\appdata\\local\\programs\\python\\python311\\lib\\site-packages (from matplotlib->japanize-matplotlib) (9.4.0)\n",
      "Requirement already satisfied: pyparsing>=2.3.1 in c:\\users\\inkat\\appdata\\local\\programs\\python\\python311\\lib\\site-packages (from matplotlib->japanize-matplotlib) (3.0.9)\n",
      "Requirement already satisfied: python-dateutil>=2.7 in c:\\users\\inkat\\appdata\\local\\programs\\python\\python311\\lib\\site-packages (from matplotlib->japanize-matplotlib) (2.8.2)\n",
      "Requirement already satisfied: six>=1.5 in c:\\users\\inkat\\appdata\\local\\programs\\python\\python311\\lib\\site-packages (from python-dateutil>=2.7->matplotlib->japanize-matplotlib) (1.16.0)\n"
     ]
    }
   ],
   "source": [
    "!pip install japanize-matplotlib"
   ]
  },
  {
   "cell_type": "code",
   "execution_count": 94,
   "metadata": {},
   "outputs": [],
   "source": [
    "from sklearn.metrics import mean_squared_error as MSE\n",
    "from sklearn.svm import SVR\n",
    "from sklearn.linear_model import Ridge\n",
    "from sklearn.linear_model import LinearRegression as LR\n",
    "import japanize_matplotlib\n",
    "from matplotlib import pyplot as plt\n",
    "import numpy as np\n",
    "import pandas as pd\n",
    "import re\n",
    "# データを表示する時に列を省略しないためのおまじない\n",
    "pd.options.display.max_columns = None\n",
    "\n",
    "%matplotlib inline\n",
    "\n",
    "# #日本語化matplotlibのインポート & 日本語のフォントを指定\n",
    "plt.rcParams['font.family'] = 'IPAexGothic'"
   ]
  },
  {
   "cell_type": "code",
   "execution_count": 95,
   "metadata": {},
   "outputs": [],
   "source": [
    "train = pd.read_csv(\"./input/train_all.csv\")\n",
    "# test = pd.read_csv(\"./input/test_all.csv\")\n",
    "\n",
    "# 投稿用のサンプルファイルの読み込み\n",
    "sample = pd.read_csv(\"./input/sample_submit.csv\", header=None)"
   ]
  },
  {
   "cell_type": "markdown",
   "metadata": {},
   "source": [
    "# 前処理"
   ]
  },
  {
   "cell_type": "code",
   "execution_count": 96,
   "metadata": {},
   "outputs": [
    {
     "data": {
      "text/html": [
       "<div>\n",
       "<style scoped>\n",
       "    .dataframe tbody tr th:only-of-type {\n",
       "        vertical-align: middle;\n",
       "    }\n",
       "\n",
       "    .dataframe tbody tr th {\n",
       "        vertical-align: top;\n",
       "    }\n",
       "\n",
       "    .dataframe thead th {\n",
       "        text-align: right;\n",
       "    }\n",
       "</style>\n",
       "<table border=\"1\" class=\"dataframe\">\n",
       "  <thead>\n",
       "    <tr style=\"text-align: right;\">\n",
       "      <th></th>\n",
       "      <th>id</th>\n",
       "      <th>y</th>\n",
       "      <th>year</th>\n",
       "      <th>stage</th>\n",
       "      <th>match</th>\n",
       "      <th>gameday</th>\n",
       "      <th>stadium</th>\n",
       "      <th>home_score</th>\n",
       "      <th>away_score</th>\n",
       "      <th>weather</th>\n",
       "      <th>temperature</th>\n",
       "      <th>home_team</th>\n",
       "      <th>away_team</th>\n",
       "      <th>capa</th>\n",
       "      <th>capa_rate</th>\n",
       "    </tr>\n",
       "  </thead>\n",
       "  <tbody>\n",
       "    <tr>\n",
       "      <th>1059</th>\n",
       "      <td>15127</td>\n",
       "      <td>62632</td>\n",
       "      <td>2013</td>\n",
       "      <td>Ｊ１</td>\n",
       "      <td>第３３節第１日</td>\n",
       "      <td>11/30(土)</td>\n",
       "      <td>日産スタジアム</td>\n",
       "      <td>0</td>\n",
       "      <td>2</td>\n",
       "      <td>晴</td>\n",
       "      <td>12.7</td>\n",
       "      <td>横浜Ｆ・マリノス</td>\n",
       "      <td>アルビレックス新潟</td>\n",
       "      <td>72327</td>\n",
       "      <td>0.865956</td>\n",
       "    </tr>\n",
       "    <tr>\n",
       "      <th>1066</th>\n",
       "      <td>15134</td>\n",
       "      <td>54905</td>\n",
       "      <td>2013</td>\n",
       "      <td>Ｊ１</td>\n",
       "      <td>第３４節第１日</td>\n",
       "      <td>12/07(土)</td>\n",
       "      <td>埼玉スタジアム２００２</td>\n",
       "      <td>2</td>\n",
       "      <td>5</td>\n",
       "      <td>晴</td>\n",
       "      <td>12.6</td>\n",
       "      <td>浦和レッズ</td>\n",
       "      <td>セレッソ大阪</td>\n",
       "      <td>63700</td>\n",
       "      <td>0.861931</td>\n",
       "    </tr>\n",
       "    <tr>\n",
       "      <th>1654</th>\n",
       "      <td>15787</td>\n",
       "      <td>54350</td>\n",
       "      <td>2014</td>\n",
       "      <td>Ｊ１</td>\n",
       "      <td>第１４節第１日</td>\n",
       "      <td>05/17(土)</td>\n",
       "      <td>埼玉スタジアム２００２</td>\n",
       "      <td>1</td>\n",
       "      <td>0</td>\n",
       "      <td>晴</td>\n",
       "      <td>23.6</td>\n",
       "      <td>浦和レッズ</td>\n",
       "      <td>セレッソ大阪</td>\n",
       "      <td>63700</td>\n",
       "      <td>0.853218</td>\n",
       "    </tr>\n",
       "    <tr>\n",
       "      <th>784</th>\n",
       "      <td>14852</td>\n",
       "      <td>52293</td>\n",
       "      <td>2013</td>\n",
       "      <td>Ｊ１</td>\n",
       "      <td>第２節第１日</td>\n",
       "      <td>03/09(土)</td>\n",
       "      <td>埼玉スタジアム２００２</td>\n",
       "      <td>1</td>\n",
       "      <td>0</td>\n",
       "      <td>晴</td>\n",
       "      <td>21.6</td>\n",
       "      <td>浦和レッズ</td>\n",
       "      <td>名古屋グランパス</td>\n",
       "      <td>63700</td>\n",
       "      <td>0.820926</td>\n",
       "    </tr>\n",
       "    <tr>\n",
       "      <th>298</th>\n",
       "      <td>14292</td>\n",
       "      <td>51879</td>\n",
       "      <td>2012</td>\n",
       "      <td>Ｊ１</td>\n",
       "      <td>第３４節第１日</td>\n",
       "      <td>12/01(土)</td>\n",
       "      <td>埼玉スタジアム２００２</td>\n",
       "      <td>2</td>\n",
       "      <td>0</td>\n",
       "      <td>晴</td>\n",
       "      <td>5.6</td>\n",
       "      <td>浦和レッズ</td>\n",
       "      <td>名古屋グランパス</td>\n",
       "      <td>63700</td>\n",
       "      <td>0.814427</td>\n",
       "    </tr>\n",
       "  </tbody>\n",
       "</table>\n",
       "</div>"
      ],
      "text/plain": [
       "         id      y  year stage    match   gameday      stadium  home_score  \\\n",
       "1059  15127  62632  2013    Ｊ１  第３３節第１日  11/30(土)      日産スタジアム           0   \n",
       "1066  15134  54905  2013    Ｊ１  第３４節第１日  12/07(土)  埼玉スタジアム２００２           2   \n",
       "1654  15787  54350  2014    Ｊ１  第１４節第１日  05/17(土)  埼玉スタジアム２００２           1   \n",
       "784   14852  52293  2013    Ｊ１   第２節第１日  03/09(土)  埼玉スタジアム２００２           1   \n",
       "298   14292  51879  2012    Ｊ１  第３４節第１日  12/01(土)  埼玉スタジアム２００２           2   \n",
       "\n",
       "      away_score weather  temperature home_team  away_team   capa  capa_rate  \n",
       "1059           2       晴         12.7  横浜Ｆ・マリノス  アルビレックス新潟  72327   0.865956  \n",
       "1066           5       晴         12.6     浦和レッズ     セレッソ大阪  63700   0.861931  \n",
       "1654           0       晴         23.6     浦和レッズ     セレッソ大阪  63700   0.853218  \n",
       "784            0       晴         21.6     浦和レッズ   名古屋グランパス  63700   0.820926  \n",
       "298            0       晴          5.6     浦和レッズ   名古屋グランパス  63700   0.814427  "
      ]
     },
     "execution_count": 96,
     "metadata": {},
     "output_type": "execute_result"
    }
   ],
   "source": [
    "drop_list = [\n",
    "    \"tv\",\n",
    "    \"referee\",\n",
    "    \"time\",\n",
    "    \"home\",\n",
    "    \"away\",\n",
    "    \"home_01\", \"home_02\", \"home_03\", \"home_04\", \"home_05\", \"home_06\", \"home_07\", \"home_08\", \"home_09\", \"home_10\", \"home_11\",\n",
    "    \"away_01\", \"away_02\", \"away_03\", \"away_04\", \"away_05\", \"away_06\", \"away_07\", \"away_08\", \"away_09\", \"away_10\", \"away_11\",\n",
    "    \"address\",\n",
    "    \"humidity\",\n",
    "]\n",
    "train = train.drop(drop_list, axis=1)\n",
    "train = train.sort_values('y', ascending=False)\n",
    "train[\"capa_rate\"] = train.apply(lambda x: x[\"y\"] / x[\"capa\"], axis=1) # 収容率の追加\n",
    "train.head(5)"
   ]
  },
  {
   "cell_type": "markdown",
   "metadata": {},
   "source": [
    "## 外れ値の除外"
   ]
  },
  {
   "cell_type": "code",
   "execution_count": 97,
   "metadata": {},
   "outputs": [],
   "source": [
    "train = train[train[\"id\"] != 15127]\t# yの値が大きく外れたデータ\n",
    "train = train[train[\"id\"] != 15699]\t# yの値が0のデータ\n",
    "train = train[train[\"id\"] != 14071]\t# 木の中でyの値が外れたデータ\n",
    "train = train[train[\"id\"] != 14911]\t# 金の中でyの値が外れたデータ"
   ]
  },
  {
   "cell_type": "markdown",
   "metadata": {},
   "source": [
    "## 列の追加・削除"
   ]
  },
  {
   "cell_type": "code",
   "execution_count": 98,
   "metadata": {},
   "outputs": [],
   "source": [
    "train[\"capa_rate\"] = train.apply(lambda x: x[\"y\"] / x[\"capa\"], axis=1)"
   ]
  },
  {
   "cell_type": "code",
   "execution_count": 99,
   "metadata": {},
   "outputs": [],
   "source": [
    "train[\"WEEK\"] = train[\"gameday\"].apply(lambda x: x[x.find(\"(\")+1:x.find(\"(\")+2])\n",
    "datas = pd.get_dummies(train, columns=[\"WEEK\"], drop_first=True)"
   ]
  },
  {
   "cell_type": "code",
   "execution_count": 100,
   "metadata": {},
   "outputs": [],
   "source": [
    "train[\"stage\"] = train[\"stage\"].apply(lambda x: x[1])\n",
    "\n",
    "train[\"match_num\"] = train[\"match\"].apply(lambda x: int(re.findall(r'\\d+', x)[0]))\n",
    "train[\"match_day\"] = train[\"match\"].apply(lambda x: int(re.findall(r'\\d+', x)[1]))\n",
    "datas = datas.drop(\"match\", axis=1)"
   ]
  },
  {
   "cell_type": "markdown",
   "metadata": {},
   "source": [
    "# 可視化部分"
   ]
  },
  {
   "cell_type": "code",
   "execution_count": 107,
   "metadata": {},
   "outputs": [
    {
     "data": {
      "text/plain": [
       "Text(0, 0.5, 'capa_rate')"
      ]
     },
     "execution_count": 107,
     "metadata": {},
     "output_type": "execute_result"
    },
    {
     "data": {
      "image/png": "[encoded data removed]",
      "text/plain": [
       "<Figure size 640x480 with 1 Axes>"
      ]
     },
     "metadata": {},
     "output_type": "display_data"
    }
   ],
   "source": [
    "plt.plot(train[\"match_num\"], train[\"y\"], 'o')\n",
    "# plt.plot(train[\"match_num\"], train[\"capa_rate\"], 'o')\n",
    "plt.xlabel(\"match_num\")\n",
    "plt.ylabel(\"capa_rate\")"
   ]
  }
 ],
 "metadata": {
  "language_info": {
   "name": "python"
  },
  "orig_nbformat": 4
 },
 "nbformat": 4,
 "nbformat_minor": 2
}
